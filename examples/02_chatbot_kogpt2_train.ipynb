{
  "nbformat": 4,
  "nbformat_minor": 0,
  "metadata": {
    "colab": {
      "name": "02_chatbot_kogpt2_train.ipynb",
      "provenance": [],
      "collapsed_sections": []
    },
    "kernelspec": {
      "display_name": "Python 3",
      "name": "python3"
    },
    "language_info": {
      "name": "python"
    },
    "accelerator": "GPU"
  },
  "cells": [
    {
      "cell_type": "code",
      "metadata": {
        "id": "DTmbRAEf7H1k"
      },
      "source": [
        "import os\n",
        "os.chdir('/content')"
      ],
      "execution_count": null,
      "outputs": []
    },
    {
      "cell_type": "code",
      "metadata": {
        "colab": {
          "base_uri": "https://localhost:8080/"
        },
        "id": "5ulA54pc0WvY",
        "outputId": "a2fc5686-6896-43f3-c573-0e657a1d82ab"
      },
      "source": [
        "!git clone https://github.com/rightlit/nlp2"
      ],
      "execution_count": 1,
      "outputs": [
        {
          "output_type": "stream",
          "text": [
            "Cloning into 'nlp2'...\n",
            "remote: Enumerating objects: 361, done.\u001b[K\n",
            "remote: Counting objects: 100% (361/361), done.\u001b[K\n",
            "remote: Compressing objects: 100% (271/271), done.\u001b[K\n",
            "remote: Total 361 (delta 133), reused 259 (delta 86), pack-reused 0\u001b[K\n",
            "Receiving objects: 100% (361/361), 657.73 KiB | 7.00 MiB/s, done.\n",
            "Resolving deltas: 100% (133/133), done.\n"
          ],
          "name": "stdout"
        }
      ]
    },
    {
      "cell_type": "code",
      "metadata": {
        "colab": {
          "base_uri": "https://localhost:8080/"
        },
        "id": "I9mkfPzAvGpP",
        "outputId": "23577f1e-7dd9-435b-d63d-45497cce50ec"
      },
      "source": [
        "%tensorflow_version 1.x"
      ],
      "execution_count": null,
      "outputs": [
        {
          "output_type": "stream",
          "text": [
            "TensorFlow 1.x selected.\n"
          ],
          "name": "stdout"
        }
      ]
    },
    {
      "cell_type": "code",
      "metadata": {
        "colab": {
          "base_uri": "https://localhost:8080/",
          "height": 35
        },
        "id": "_6THqF7aXwHh",
        "outputId": "bffdb64a-ca1a-4c92-d4ad-2cc97e6e05f2"
      },
      "source": [
        "import tensorflow as tf\n",
        "tf.__version__"
      ],
      "execution_count": null,
      "outputs": [
        {
          "output_type": "execute_result",
          "data": {
            "application/vnd.google.colaboratory.intrinsic+json": {
              "type": "string"
            },
            "text/plain": [
              "'1.15.2'"
            ]
          },
          "metadata": {
            "tags": []
          },
          "execution_count": 2
        }
      ]
    },
    {
      "cell_type": "code",
      "metadata": {
        "id": "TDqc4ucxX4oj",
        "colab": {
          "base_uri": "https://localhost:8080/"
        },
        "outputId": "f1f3d5ed-1d2d-4870-9c62-d0ebc8b79b8e"
      },
      "source": [
        "!python -V"
      ],
      "execution_count": null,
      "outputs": [
        {
          "output_type": "stream",
          "text": [
            "Python 3.7.10\n"
          ],
          "name": "stdout"
        }
      ]
    },
    {
      "cell_type": "code",
      "metadata": {
        "id": "Izzb3_JN9UY7"
      },
      "source": [
        "!pip list | egrep \"kobert|transformers|tokenizers\""
      ],
      "execution_count": null,
      "outputs": []
    },
    {
      "cell_type": "code",
      "metadata": {
        "colab": {
          "base_uri": "https://localhost:8080/"
        },
        "id": "freqcqri_XlV",
        "outputId": "690be2c4-62ec-4694-c70c-fb5980528155"
      },
      "source": [
        "!pip install transformers\n",
        "!pip install kogpt2-transformers"
      ],
      "execution_count": 2,
      "outputs": [
        {
          "output_type": "stream",
          "text": [
            "Collecting transformers\n",
            "\u001b[?25l  Downloading https://files.pythonhosted.org/packages/fd/1a/41c644c963249fd7f3836d926afa1e3f1cc234a1c40d80c5f03ad8f6f1b2/transformers-4.8.2-py3-none-any.whl (2.5MB)\n",
            "\u001b[K     |████████████████████████████████| 2.5MB 13.4MB/s \n",
            "\u001b[?25hRequirement already satisfied: importlib-metadata; python_version < \"3.8\" in /usr/local/lib/python3.7/dist-packages (from transformers) (4.6.1)\n",
            "Requirement already satisfied: regex!=2019.12.17 in /usr/local/lib/python3.7/dist-packages (from transformers) (2019.12.20)\n",
            "Requirement already satisfied: pyyaml in /usr/local/lib/python3.7/dist-packages (from transformers) (3.13)\n",
            "Requirement already satisfied: packaging in /usr/local/lib/python3.7/dist-packages (from transformers) (21.0)\n",
            "Requirement already satisfied: filelock in /usr/local/lib/python3.7/dist-packages (from transformers) (3.0.12)\n",
            "Collecting tokenizers<0.11,>=0.10.1\n",
            "\u001b[?25l  Downloading https://files.pythonhosted.org/packages/d4/e2/df3543e8ffdab68f5acc73f613de9c2b155ac47f162e725dcac87c521c11/tokenizers-0.10.3-cp37-cp37m-manylinux_2_5_x86_64.manylinux1_x86_64.manylinux_2_12_x86_64.manylinux2010_x86_64.whl (3.3MB)\n",
            "\u001b[K     |████████████████████████████████| 3.3MB 46.9MB/s \n",
            "\u001b[?25hRequirement already satisfied: numpy>=1.17 in /usr/local/lib/python3.7/dist-packages (from transformers) (1.19.5)\n",
            "Collecting huggingface-hub==0.0.12\n",
            "  Downloading https://files.pythonhosted.org/packages/2f/ee/97e253668fda9b17e968b3f97b2f8e53aa0127e8807d24a547687423fe0b/huggingface_hub-0.0.12-py3-none-any.whl\n",
            "Requirement already satisfied: requests in /usr/local/lib/python3.7/dist-packages (from transformers) (2.23.0)\n",
            "Collecting sacremoses\n",
            "\u001b[?25l  Downloading https://files.pythonhosted.org/packages/75/ee/67241dc87f266093c533a2d4d3d69438e57d7a90abb216fa076e7d475d4a/sacremoses-0.0.45-py3-none-any.whl (895kB)\n",
            "\u001b[K     |████████████████████████████████| 901kB 49.0MB/s \n",
            "\u001b[?25hRequirement already satisfied: tqdm>=4.27 in /usr/local/lib/python3.7/dist-packages (from transformers) (4.41.1)\n",
            "Requirement already satisfied: typing-extensions>=3.6.4; python_version < \"3.8\" in /usr/local/lib/python3.7/dist-packages (from importlib-metadata; python_version < \"3.8\"->transformers) (3.7.4.3)\n",
            "Requirement already satisfied: zipp>=0.5 in /usr/local/lib/python3.7/dist-packages (from importlib-metadata; python_version < \"3.8\"->transformers) (3.5.0)\n",
            "Requirement already satisfied: pyparsing>=2.0.2 in /usr/local/lib/python3.7/dist-packages (from packaging->transformers) (2.4.7)\n",
            "Requirement already satisfied: certifi>=2017.4.17 in /usr/local/lib/python3.7/dist-packages (from requests->transformers) (2021.5.30)\n",
            "Requirement already satisfied: urllib3!=1.25.0,!=1.25.1,<1.26,>=1.21.1 in /usr/local/lib/python3.7/dist-packages (from requests->transformers) (1.24.3)\n",
            "Requirement already satisfied: idna<3,>=2.5 in /usr/local/lib/python3.7/dist-packages (from requests->transformers) (2.10)\n",
            "Requirement already satisfied: chardet<4,>=3.0.2 in /usr/local/lib/python3.7/dist-packages (from requests->transformers) (3.0.4)\n",
            "Requirement already satisfied: joblib in /usr/local/lib/python3.7/dist-packages (from sacremoses->transformers) (1.0.1)\n",
            "Requirement already satisfied: six in /usr/local/lib/python3.7/dist-packages (from sacremoses->transformers) (1.15.0)\n",
            "Requirement already satisfied: click in /usr/local/lib/python3.7/dist-packages (from sacremoses->transformers) (7.1.2)\n",
            "Installing collected packages: tokenizers, huggingface-hub, sacremoses, transformers\n",
            "Successfully installed huggingface-hub-0.0.12 sacremoses-0.0.45 tokenizers-0.10.3 transformers-4.8.2\n",
            "Collecting kogpt2-transformers\n",
            "  Downloading https://files.pythonhosted.org/packages/9e/e0/442b4790e0e2b7a0438192866efe573b6aa33bfc39a6952b40493fa22420/kogpt2_transformers-0.4.0-py3-none-any.whl\n",
            "Requirement already satisfied: torch>=1.1.0 in /usr/local/lib/python3.7/dist-packages (from kogpt2-transformers) (1.9.0+cu102)\n",
            "Requirement already satisfied: tokenizers>=0.7.0 in /usr/local/lib/python3.7/dist-packages (from kogpt2-transformers) (0.10.3)\n",
            "Requirement already satisfied: transformers>=4.0.0 in /usr/local/lib/python3.7/dist-packages (from kogpt2-transformers) (4.8.2)\n",
            "Requirement already satisfied: typing-extensions in /usr/local/lib/python3.7/dist-packages (from torch>=1.1.0->kogpt2-transformers) (3.7.4.3)\n",
            "Requirement already satisfied: requests in /usr/local/lib/python3.7/dist-packages (from transformers>=4.0.0->kogpt2-transformers) (2.23.0)\n",
            "Requirement already satisfied: packaging in /usr/local/lib/python3.7/dist-packages (from transformers>=4.0.0->kogpt2-transformers) (21.0)\n",
            "Requirement already satisfied: numpy>=1.17 in /usr/local/lib/python3.7/dist-packages (from transformers>=4.0.0->kogpt2-transformers) (1.19.5)\n",
            "Requirement already satisfied: sacremoses in /usr/local/lib/python3.7/dist-packages (from transformers>=4.0.0->kogpt2-transformers) (0.0.45)\n",
            "Requirement already satisfied: importlib-metadata; python_version < \"3.8\" in /usr/local/lib/python3.7/dist-packages (from transformers>=4.0.0->kogpt2-transformers) (4.6.1)\n",
            "Requirement already satisfied: filelock in /usr/local/lib/python3.7/dist-packages (from transformers>=4.0.0->kogpt2-transformers) (3.0.12)\n",
            "Requirement already satisfied: huggingface-hub==0.0.12 in /usr/local/lib/python3.7/dist-packages (from transformers>=4.0.0->kogpt2-transformers) (0.0.12)\n",
            "Requirement already satisfied: tqdm>=4.27 in /usr/local/lib/python3.7/dist-packages (from transformers>=4.0.0->kogpt2-transformers) (4.41.1)\n",
            "Requirement already satisfied: regex!=2019.12.17 in /usr/local/lib/python3.7/dist-packages (from transformers>=4.0.0->kogpt2-transformers) (2019.12.20)\n",
            "Requirement already satisfied: pyyaml in /usr/local/lib/python3.7/dist-packages (from transformers>=4.0.0->kogpt2-transformers) (3.13)\n",
            "Requirement already satisfied: idna<3,>=2.5 in /usr/local/lib/python3.7/dist-packages (from requests->transformers>=4.0.0->kogpt2-transformers) (2.10)\n",
            "Requirement already satisfied: chardet<4,>=3.0.2 in /usr/local/lib/python3.7/dist-packages (from requests->transformers>=4.0.0->kogpt2-transformers) (3.0.4)\n",
            "Requirement already satisfied: urllib3!=1.25.0,!=1.25.1,<1.26,>=1.21.1 in /usr/local/lib/python3.7/dist-packages (from requests->transformers>=4.0.0->kogpt2-transformers) (1.24.3)\n",
            "Requirement already satisfied: certifi>=2017.4.17 in /usr/local/lib/python3.7/dist-packages (from requests->transformers>=4.0.0->kogpt2-transformers) (2021.5.30)\n",
            "Requirement already satisfied: pyparsing>=2.0.2 in /usr/local/lib/python3.7/dist-packages (from packaging->transformers>=4.0.0->kogpt2-transformers) (2.4.7)\n",
            "Requirement already satisfied: click in /usr/local/lib/python3.7/dist-packages (from sacremoses->transformers>=4.0.0->kogpt2-transformers) (7.1.2)\n",
            "Requirement already satisfied: joblib in /usr/local/lib/python3.7/dist-packages (from sacremoses->transformers>=4.0.0->kogpt2-transformers) (1.0.1)\n",
            "Requirement already satisfied: six in /usr/local/lib/python3.7/dist-packages (from sacremoses->transformers>=4.0.0->kogpt2-transformers) (1.15.0)\n",
            "Requirement already satisfied: zipp>=0.5 in /usr/local/lib/python3.7/dist-packages (from importlib-metadata; python_version < \"3.8\"->transformers>=4.0.0->kogpt2-transformers) (3.5.0)\n",
            "Installing collected packages: kogpt2-transformers\n",
            "Successfully installed kogpt2-transformers-0.4.0\n"
          ],
          "name": "stdout"
        }
      ]
    },
    {
      "cell_type": "code",
      "metadata": {
        "id": "1SAJrez40lVc"
      },
      "source": [
        "import os\n",
        "os.chdir('/content/nlp2/examples/')"
      ],
      "execution_count": 3,
      "outputs": []
    },
    {
      "cell_type": "code",
      "metadata": {
        "id": "fv8ZrX_btSrk"
      },
      "source": [
        "#!cp /content/drive/My\\ Drive/work/nlp/ChatbotData.csv ./"
      ],
      "execution_count": 5,
      "outputs": []
    },
    {
      "cell_type": "code",
      "metadata": {
        "colab": {
          "base_uri": "https://localhost:8080/"
        },
        "id": "X6LB4ITytZP_",
        "outputId": "8679e97e-0e65-46f6-b78f-9d155eaa92b3"
      },
      "source": [
        "!head ./ChatbotData.csv"
      ],
      "execution_count": null,
      "outputs": [
        {
          "output_type": "stream",
          "text": [
            "Q,A,label\r\n",
            "12시 땡!,하루가 또 가네요.,0\r\n",
            "1지망 학교 떨어졌어,위로해 드립니다.,0\r\n",
            "3박4일 놀러가고 싶다,여행은 언제나 좋죠.,0\r\n",
            "3박4일 정도 놀러가고 싶다,여행은 언제나 좋죠.,0\r\n",
            "PPL 심하네,눈살이 찌푸려지죠.,0\r\n",
            "SD카드 망가졌어,다시 새로 사는 게 마음 편해요.,0\r\n",
            "SD카드 안돼,다시 새로 사는 게 마음 편해요.,0\r\n",
            "SNS 맞팔 왜 안하지ㅠㅠ,잘 모르고 있을 수도 있어요.,0\r\n",
            "SNS 시간낭비인 거 아는데 매일 하는 중,시간을 정하고 해보세요.,0\r\n"
          ],
          "name": "stdout"
        }
      ]
    },
    {
      "cell_type": "code",
      "metadata": {
        "id": "q89BB2Ovt5nT"
      },
      "source": [
        "import pandas as pd\n",
        "import re\n",
        "\n",
        "df = pd.read_csv('./ChatbotData.csv')\n",
        "A_data = df['A'].tolist()\n",
        "QA_data = list()\n",
        "for i, q_text in enumerate(df['Q']):\n",
        "    qa_text = q_text + '    ' + A_data[i]\n",
        "    #qa_text = qa_text.replace(\"[^ㄱ-ㅎㅏ-ㅣ가-힣 ]\",\"\")\n",
        "    #qa_text = qa_text.replace(\"[ㄱ-ㅎㅏ-ㅣ가-힣 ]\",\"\")\n",
        "    qa_text = re.sub(\"[ㅠㅜ]\",\"\", qa_text)\n",
        "    QA_data.append(qa_text)\n",
        "\n",
        "df['QA'] = QA_data\n",
        "df['QA'].to_csv('./chatbot_dialog.txt', index=False, header=False)\n",
        "\n",
        "#with open(\"chatbot_dialog.txt\", \"w\") as f:\n",
        "#    for line in df['QA']:\n",
        "#        f.writeline(line)"
      ],
      "execution_count": 7,
      "outputs": []
    },
    {
      "cell_type": "code",
      "metadata": {
        "colab": {
          "base_uri": "https://localhost:8080/"
        },
        "id": "BJNa_15Usl88",
        "outputId": "09e6999c-4402-4fed-b2a1-a7b05e027aae"
      },
      "source": [
        "!ls -l"
      ],
      "execution_count": 8,
      "outputs": [
        {
          "output_type": "stream",
          "text": [
            "total 1470356\n",
            "-rw-r--r-- 1 root root       1356 Jul 16 07:53 01_bert_test.py\n",
            "-rw-r--r-- 1 root root      78357 Jul 16 07:53 01_bert_train.ipynb\n",
            "-rw-r--r-- 1 root root      29065 Jul 16 07:53 01_bert_train.py\n",
            "-rw-r--r-- 1 root root       1525 Jul 16 07:53 02_chatbot_kogpt2_test.py\n",
            "-rw-r--r-- 1 root root       2961 Jul 16 07:53 02_chatbot_kogpt2_train.py\n",
            "-rw-r--r-- 1 root root       1291 Jul 16 07:53 03_chatbot_kogpt2_test.py\n",
            "-rw-r--r-- 1 root root       2999 Jul 16 07:53 03_chatbot_kogpt2_train.py\n",
            "-rw-r--r-- 1 root root       3547 Jul 16 07:53 11_chatbot_transformer_test.py\n",
            "-rw-r--r-- 1 root root       5080 Jul 16 07:53 11_chatbot_transformer_train.py\n",
            "-rw------- 1 root root     889842 Jul 16 07:55 ChatbotData.csv\n",
            "-rw-r--r-- 1 root root     889545 Jul 16 07:59 chatbot_dialog.txt\n",
            "-rw-r--r-- 1 root root        932 Jul 16 07:53 configuration.py\n",
            "-rw------- 1 root root 1503644183 Jul 16 07:59 kogpt2-chatbot-dialog.pth\n",
            "drwxr-xr-x 2 root root       4096 Jul 16 07:53 multi_cased_L-12_H-768_A-12\n",
            "-rw-r--r-- 1 root root      11114 Jul 16 07:53 preprocess.py\n",
            "-rw-r--r-- 1 root root       6790 Jul 16 07:53 sent_eval.py\n",
            "-rw-r--r-- 1 root root       2209 Jul 16 07:53 supervised_nlputils.py\n",
            "-rw-r--r-- 1 root root      24192 Jul 16 07:53 tune_utils.py\n",
            "-rw-r--r-- 1 root root       3043 Jul 16 07:53 wellness.py\n"
          ],
          "name": "stdout"
        }
      ]
    },
    {
      "cell_type": "code",
      "metadata": {
        "colab": {
          "base_uri": "https://localhost:8080/"
        },
        "id": "p9ES9smPlmMm",
        "outputId": "80234b9a-5f8f-45eb-ec11-67d3b713ff2f"
      },
      "source": [
        "!wc -l ./chatbot_dialog.txt"
      ],
      "execution_count": null,
      "outputs": [
        {
          "output_type": "stream",
          "text": [
            "11823 ./chatbot_dialog.txt\n"
          ],
          "name": "stdout"
        }
      ]
    },
    {
      "cell_type": "code",
      "metadata": {
        "colab": {
          "base_uri": "https://localhost:8080/"
        },
        "id": "Xr3Z2TnbyZqD",
        "outputId": "fed46911-c045-4e36-87c4-ef8c17208dba"
      },
      "source": [
        "!head -n 20 ./chatbot_dialog.txt"
      ],
      "execution_count": null,
      "outputs": [
        {
          "output_type": "stream",
          "text": [
            "12시 땡!    하루가 또 가네요.\n",
            "1지망 학교 떨어졌어    위로해 드립니다.\n",
            "3박4일 놀러가고 싶다    여행은 언제나 좋죠.\n",
            "3박4일 정도 놀러가고 싶다    여행은 언제나 좋죠.\n",
            "PPL 심하네    눈살이 찌푸려지죠.\n",
            "SD카드 망가졌어    다시 새로 사는 게 마음 편해요.\n",
            "SD카드 안돼    다시 새로 사는 게 마음 편해요.\n",
            "SNS 맞팔 왜 안하지    잘 모르고 있을 수도 있어요.\n",
            "SNS 시간낭비인 거 아는데 매일 하는 중    시간을 정하고 해보세요.\n",
            "SNS 시간낭비인데 자꾸 보게됨    시간을 정하고 해보세요.\n",
            "SNS보면 나만 빼고 다 행복해보여    자랑하는 자리니까요.\n",
            "가끔 궁금해    그 사람도 그럴 거예요.\n",
            "가끔 뭐하는지 궁금해    그 사람도 그럴 거예요.\n",
            "가끔은 혼자인게 좋다    혼자를 즐기세요.\n",
            "가난한 자의 설움    돈은 다시 들어올 거예요.\n",
            "가만 있어도 땀난다    땀을 식혀주세요.\n",
            "가상화폐 쫄딱 망함    어서 잊고 새출발 하세요.\n",
            "가스불 켜고 나갔어    빨리 집에 돌아가서 끄고 나오세요.\n",
            "가스불 켜놓고 나온거 같아    빨리 집에 돌아가서 끄고 나오세요.\n",
            "가스비 너무 많이 나왔다.    다음 달에는 더 절약해봐요.\n"
          ],
          "name": "stdout"
        }
      ]
    },
    {
      "cell_type": "code",
      "metadata": {
        "id": "0pv031xY0pKe"
      },
      "source": [
        "os.environ['CUDA_LAUNCH_BLOCKING'] = \"1\""
      ],
      "execution_count": 9,
      "outputs": []
    },
    {
      "cell_type": "code",
      "metadata": {
        "id": "sfu5dTCV17T2"
      },
      "source": [
        "#torch.backends.cudnn.enabled = False "
      ],
      "execution_count": null,
      "outputs": []
    },
    {
      "cell_type": "code",
      "metadata": {
        "colab": {
          "base_uri": "https://localhost:8080/"
        },
        "id": "f5QNsu84IoaR",
        "outputId": "51de9df9-19ad-473f-fa24-1290d237d672"
      },
      "source": [
        "!python ./02_chatbot_kogpt2_train.py"
      ],
      "execution_count": 11,
      "outputs": [
        {
          "output_type": "stream",
          "text": [
            "2021-07-16 08:03:31.492574: I tensorflow/stream_executor/platform/default/dso_loader.cc:53] Successfully opened dynamic library libcudart.so.11.0\n",
            "Train(0):  10% 600/5912 [03:18<29:18,  3.02it/s, Loss: 3.179 (3.458)]\n",
            "Traceback (most recent call last):\n",
            "  File \"./02_chatbot_kogpt2_train.py\", line 81, in <module>\n",
            "    }, save_ckpt_path)\n",
            "  File \"/usr/local/lib/python3.7/dist-packages/torch/serialization.py\", line 379, in save\n",
            "    _save(obj, opened_zipfile, pickle_module, pickle_protocol)\n",
            "  File \"/usr/local/lib/python3.7/dist-packages/torch/serialization.py\", line 496, in _save\n",
            "    storage = storage.cpu()\n",
            "  File \"/usr/local/lib/python3.7/dist-packages/torch/storage.py\", line 72, in cpu\n",
            "    return self.type(getattr(torch, self.__class__.__name__))\n",
            "  File \"/usr/local/lib/python3.7/dist-packages/torch/cuda/__init__.py\", line 540, in type\n",
            "    return super(_CudaBase, self).type(*args, **kwargs)  # type: ignore[misc]\n",
            "  File \"/usr/local/lib/python3.7/dist-packages/torch/_utils.py\", line 45, in _type\n",
            "    return dtype(self.size()).copy_(self, non_blocking)\n",
            "KeyboardInterrupt\n"
          ],
          "name": "stdout"
        }
      ]
    },
    {
      "cell_type": "code",
      "metadata": {
        "id": "2MjOUQVxUo02"
      },
      "source": [
        "#!cp /content/drive/MyDrive/work/nlp/kogpt2-chatbot-dialog.pth ./"
      ],
      "execution_count": 6,
      "outputs": []
    },
    {
      "cell_type": "code",
      "metadata": {
        "colab": {
          "base_uri": "https://localhost:8080/"
        },
        "id": "bNsxij3NJcJi",
        "outputId": "1359048d-8749-4e56-94dd-2f9f304417bc"
      },
      "source": [
        "!python ./02_chatbot_kogpt2_test.py"
      ],
      "execution_count": null,
      "outputs": [
        {
          "output_type": "stream",
          "text": [
            "Downloading: 100% 577/577 [00:00<00:00, 548kB/s]\n",
            "Downloading: 100% 510M/510M [00:42<00:00, 12.0MB/s]\n",
            "Downloading: 100% 85.0/85.0 [00:00<00:00, 76.1kB/s]\n",
            "Downloading: 100% 109/109 [00:00<00:00, 93.1kB/s]\n",
            "Downloading: 100% 1.93M/1.93M [00:00<00:00, 2.72MB/s]\n",
            "Setting `pad_token_id` to `eos_token_id`:50256 for open-end generation.\n",
            "2021-07-15 01:07:04.448089: I tensorflow/stream_executor/platform/default/dso_loader.cc:53] Successfully opened dynamic library libcudart.so.11.0\n",
            "Answer: 안녕하세요. 안녕하세요. 안녕하세요. 안녕하세요. 안녕하세요. 안녕하세요. 안녕하세요 안녕하세요. 안녕하세요 안녕하세요. 안녕하세요 안녕하세요 안녕하세요 안녕하세요. 안녕하세요 안녕하세요 안녕하세요. 안녕하세요\n",
            "----------------------------------------------------------------------------------------------------\n",
            "Setting `pad_token_id` to `eos_token_id`:50256 for open-end generation.\n",
            "Answer: 하늘 보고 한 번 웃어봐요. 기분이 바뀔 거예요. 기분 바꾸세요. 대우 자동차 나른한가봐요 제게 말씀해보세요. 달달한 기분이 나오길 바랄게요.\n",
            "----------------------------------------------------------------------------------------------------\n",
            "Setting `pad_token_id` to `eos_token_id`:50256 for open-end generation.\n",
            "Answer: 상대방에게 전해보세요. 그럼 사랑이 변하지는 않을거예요. 사랑해요. 그럼 사랑이 변하나요. 그럼 돼요. 그럼 돼요. 그럼 돼요. 그럼 돼요. 그럼요.\n",
            "----------------------------------------------------------------------------------------------------\n",
            "Setting `pad_token_id` to `eos_token_id`:50256 for open-end generation.\n",
            "Answer: 자신의 마음에 휴식을 가져보세요. 좋은 생각이에요. 어떤 말도 위로가 되지 않겠지만 기분 좋은 일이 될 거예요. 아무렇지도 않게 추억하고 감사한 마음을 가져보세요. 어떤 말도 위로가 되지 않겠지만 긍정적인\n",
            "----------------------------------------------------------------------------------------------------\n",
            "Setting `pad_token_id` to `eos_token_id`:50256 for open-end generation.\n",
            "Answer: 힘든 시간 보내고 마음 단단히 잡길 바랄게요. 잘 지내길 바랄게요. 사랑했던 시간 만큼 아픔도 크겠죠. 마음 단단히 잡길 바랄게요. 이별은 항상 맘 먹기에 달렸어요\n",
            "----------------------------------------------------------------------------------------------------\n"
          ],
          "name": "stdout"
        }
      ]
    }
  ]
}