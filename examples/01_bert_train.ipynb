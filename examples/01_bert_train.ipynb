{
  "nbformat": 4,
  "nbformat_minor": 0,
  "metadata": {
    "colab": {
      "name": "01_bert_train.ipynb",
      "provenance": [],
      "collapsed_sections": [],
      "machine_shape": "hm"
    },
    "kernelspec": {
      "name": "python3",
      "display_name": "Python 3"
    },
    "accelerator": "GPU"
  },
  "cells": [
    {
      "cell_type": "code",
      "metadata": {
        "id": "o-BhnsTM05y4"
      },
      "source": [
        "import os\n",
        "os.chdir('/content')"
      ],
      "execution_count": null,
      "outputs": []
    },
    {
      "cell_type": "code",
      "metadata": {
        "colab": {
          "base_uri": "https://localhost:8080/"
        },
        "id": "rp-YBY0GiRrN",
        "outputId": "5207cb0f-19d7-4eb8-d32e-a6dc6c330cea"
      },
      "source": [
        "!git clone https://github.com/rightlit/nlp2"
      ],
      "execution_count": 1,
      "outputs": [
        {
          "output_type": "stream",
          "text": [
            "Cloning into 'nlp2'...\n",
            "remote: Enumerating objects: 357, done.\u001b[K\n",
            "remote: Counting objects: 100% (357/357), done.\u001b[K\n",
            "remote: Compressing objects: 100% (268/268), done.\u001b[K\n",
            "remote: Total 357 (delta 132), reused 255 (delta 85), pack-reused 0\u001b[K\n",
            "Receiving objects: 100% (357/357), 646.43 KiB | 1.22 MiB/s, done.\n",
            "Resolving deltas: 100% (132/132), done.\n"
          ],
          "name": "stdout"
        }
      ]
    },
    {
      "cell_type": "code",
      "metadata": {
        "id": "ytHihUIq92V2",
        "colab": {
          "base_uri": "https://localhost:8080/"
        },
        "outputId": "f63e05f2-63e3-44f4-c74f-d69f081b8344"
      },
      "source": [
        "%tensorflow_version 1.x"
      ],
      "execution_count": 18,
      "outputs": [
        {
          "output_type": "stream",
          "text": [
            "TensorFlow 1.x selected.\n"
          ],
          "name": "stdout"
        }
      ]
    },
    {
      "cell_type": "code",
      "metadata": {
        "id": "VX5l-BUNuic0",
        "colab": {
          "base_uri": "https://localhost:8080/"
        },
        "outputId": "01c76040-8edd-4913-9095-1d0eb0278b57"
      },
      "source": [
        "!pip list | egrep \"konlpy|torch|tensorflow\""
      ],
      "execution_count": null,
      "outputs": [
        {
          "output_type": "stream",
          "text": [
            "tensorflow                    2.5.0              \n",
            "tensorflow-datasets           4.0.1              \n",
            "tensorflow-estimator          2.5.0              \n",
            "tensorflow-gcs-config         2.5.0              \n",
            "tensorflow-hub                0.12.0             \n",
            "tensorflow-metadata           1.1.0              \n",
            "tensorflow-probability        0.13.0             \n",
            "torch                         1.9.0+cu102        \n",
            "torchsummary                  1.5.1              \n",
            "torchtext                     0.10.0             \n",
            "torchvision                   0.10.0+cu102       \n"
          ],
          "name": "stdout"
        }
      ]
    },
    {
      "cell_type": "code",
      "metadata": {
        "id": "qa_yHGXK-y32",
        "colab": {
          "base_uri": "https://localhost:8080/"
        },
        "outputId": "ede4cd03-3992-438a-a07f-31948003b86a"
      },
      "source": [
        "!pip install konlpy"
      ],
      "execution_count": 16,
      "outputs": [
        {
          "output_type": "stream",
          "text": [
            "Collecting konlpy\n",
            "\u001b[?25l  Downloading https://files.pythonhosted.org/packages/85/0e/f385566fec837c0b83f216b2da65db9997b35dd675e107752005b7d392b1/konlpy-0.5.2-py2.py3-none-any.whl (19.4MB)\n",
            "\u001b[K     |████████████████████████████████| 19.4MB 288kB/s \n",
            "\u001b[?25hRequirement already satisfied: lxml>=4.1.0 in /usr/local/lib/python3.7/dist-packages (from konlpy) (4.2.6)\n",
            "Collecting beautifulsoup4==4.6.0\n",
            "\u001b[?25l  Downloading https://files.pythonhosted.org/packages/9e/d4/10f46e5cfac773e22707237bfcd51bbffeaf0a576b0a847ec7ab15bd7ace/beautifulsoup4-4.6.0-py3-none-any.whl (86kB)\n",
            "\u001b[K     |████████████████████████████████| 92kB 10.2MB/s \n",
            "\u001b[?25hRequirement already satisfied: tweepy>=3.7.0 in /usr/local/lib/python3.7/dist-packages (from konlpy) (3.10.0)\n",
            "Collecting JPype1>=0.7.0\n",
            "\u001b[?25l  Downloading https://files.pythonhosted.org/packages/98/88/f817ef1af6f794e8f11313dcd1549de833f4599abcec82746ab5ed086686/JPype1-1.3.0-cp37-cp37m-manylinux_2_5_x86_64.manylinux1_x86_64.whl (448kB)\n",
            "\u001b[K     |████████████████████████████████| 450kB 32.5MB/s \n",
            "\u001b[?25hRequirement already satisfied: numpy>=1.6 in /usr/local/lib/python3.7/dist-packages (from konlpy) (1.19.5)\n",
            "Collecting colorama\n",
            "  Downloading https://files.pythonhosted.org/packages/44/98/5b86278fbbf250d239ae0ecb724f8572af1c91f4a11edf4d36a206189440/colorama-0.4.4-py2.py3-none-any.whl\n",
            "Requirement already satisfied: six>=1.10.0 in /usr/local/lib/python3.7/dist-packages (from tweepy>=3.7.0->konlpy) (1.15.0)\n",
            "Requirement already satisfied: requests[socks]>=2.11.1 in /usr/local/lib/python3.7/dist-packages (from tweepy>=3.7.0->konlpy) (2.23.0)\n",
            "Requirement already satisfied: requests-oauthlib>=0.7.0 in /usr/local/lib/python3.7/dist-packages (from tweepy>=3.7.0->konlpy) (1.3.0)\n",
            "Requirement already satisfied: typing-extensions; python_version < \"3.8\" in /usr/local/lib/python3.7/dist-packages (from JPype1>=0.7.0->konlpy) (3.7.4.3)\n",
            "Requirement already satisfied: urllib3!=1.25.0,!=1.25.1,<1.26,>=1.21.1 in /usr/local/lib/python3.7/dist-packages (from requests[socks]>=2.11.1->tweepy>=3.7.0->konlpy) (1.24.3)\n",
            "Requirement already satisfied: chardet<4,>=3.0.2 in /usr/local/lib/python3.7/dist-packages (from requests[socks]>=2.11.1->tweepy>=3.7.0->konlpy) (3.0.4)\n",
            "Requirement already satisfied: certifi>=2017.4.17 in /usr/local/lib/python3.7/dist-packages (from requests[socks]>=2.11.1->tweepy>=3.7.0->konlpy) (2021.5.30)\n",
            "Requirement already satisfied: idna<3,>=2.5 in /usr/local/lib/python3.7/dist-packages (from requests[socks]>=2.11.1->tweepy>=3.7.0->konlpy) (2.10)\n",
            "Requirement already satisfied: PySocks!=1.5.7,>=1.5.6; extra == \"socks\" in /usr/local/lib/python3.7/dist-packages (from requests[socks]>=2.11.1->tweepy>=3.7.0->konlpy) (1.7.1)\n",
            "Requirement already satisfied: oauthlib>=3.0.0 in /usr/local/lib/python3.7/dist-packages (from requests-oauthlib>=0.7.0->tweepy>=3.7.0->konlpy) (3.1.1)\n",
            "Installing collected packages: beautifulsoup4, JPype1, colorama, konlpy\n",
            "  Found existing installation: beautifulsoup4 4.6.3\n",
            "    Uninstalling beautifulsoup4-4.6.3:\n",
            "      Successfully uninstalled beautifulsoup4-4.6.3\n",
            "Successfully installed JPype1-1.3.0 beautifulsoup4-4.6.0 colorama-0.4.4 konlpy-0.5.2\n"
          ],
          "name": "stdout"
        }
      ]
    },
    {
      "cell_type": "code",
      "metadata": {
        "id": "dDageJdk3kBY"
      },
      "source": [
        "import os\n",
        "os.chdir('/content/nlp2/examples')"
      ],
      "execution_count": 2,
      "outputs": []
    },
    {
      "cell_type": "code",
      "metadata": {
        "colab": {
          "base_uri": "https://localhost:8080/"
        },
        "id": "7qIAaTXpj2Xx",
        "outputId": "349ec73d-1ef8-40fe-f79f-624bda8aa112"
      },
      "source": [
        "import urllib.request\n",
        "\n",
        "# NSMC dataset download\n",
        "print('NSMC dataset downloading...')\n",
        "urllib.request.urlretrieve(\"https://raw.githubusercontent.com/e9t/nsmc/master/ratings_train.txt\", filename=\"ratings_train.txt\")\n",
        "urllib.request.urlretrieve(\"https://raw.githubusercontent.com/e9t/nsmc/master/ratings_test.txt\", filename=\"ratings_test.txt\")   \n",
        "#print('download completed')"
      ],
      "execution_count": 3,
      "outputs": [
        {
          "output_type": "stream",
          "text": [
            "NSMC dataset downloading...\n"
          ],
          "name": "stdout"
        },
        {
          "output_type": "execute_result",
          "data": {
            "text/plain": [
              "('ratings_test.txt', <http.client.HTTPMessage at 0x7fbb94370fd0>)"
            ]
          },
          "metadata": {
            "tags": []
          },
          "execution_count": 3
        }
      ]
    },
    {
      "cell_type": "code",
      "metadata": {
        "id": "vATYn7tkwdnd"
      },
      "source": [
        "# NSMC 데이터\n",
        "import pandas as pd\n",
        "\n",
        "df_train = pd.read_csv('./ratings_train.txt', names=['id', 'document','label'], header=0, delimiter = '\\t', quoting = 3, encoding='UTF-8')\n",
        "df_test = pd.read_csv('./ratings_test.txt', names=['id', 'document','label'], header=0, delimiter = '\\t', quoting = 3, encoding='UTF-8')"
      ],
      "execution_count": 4,
      "outputs": []
    },
    {
      "cell_type": "code",
      "metadata": {
        "id": "q1X8GxddzTke",
        "colab": {
          "base_uri": "https://localhost:8080/",
          "height": 204
        },
        "outputId": "8e6fe89d-8639-45ad-8013-d304143bea3e"
      },
      "source": [
        "df_train.head()"
      ],
      "execution_count": null,
      "outputs": [
        {
          "output_type": "execute_result",
          "data": {
            "text/html": [
              "<div>\n",
              "<style scoped>\n",
              "    .dataframe tbody tr th:only-of-type {\n",
              "        vertical-align: middle;\n",
              "    }\n",
              "\n",
              "    .dataframe tbody tr th {\n",
              "        vertical-align: top;\n",
              "    }\n",
              "\n",
              "    .dataframe thead th {\n",
              "        text-align: right;\n",
              "    }\n",
              "</style>\n",
              "<table border=\"1\" class=\"dataframe\">\n",
              "  <thead>\n",
              "    <tr style=\"text-align: right;\">\n",
              "      <th></th>\n",
              "      <th>id</th>\n",
              "      <th>document</th>\n",
              "      <th>label</th>\n",
              "    </tr>\n",
              "  </thead>\n",
              "  <tbody>\n",
              "    <tr>\n",
              "      <th>0</th>\n",
              "      <td>9976970</td>\n",
              "      <td>아 더빙.. 진짜 짜증나네요 목소리</td>\n",
              "      <td>0</td>\n",
              "    </tr>\n",
              "    <tr>\n",
              "      <th>1</th>\n",
              "      <td>3819312</td>\n",
              "      <td>흠...포스터보고 초딩영화줄....오버연기조차 가볍지 않구나</td>\n",
              "      <td>1</td>\n",
              "    </tr>\n",
              "    <tr>\n",
              "      <th>2</th>\n",
              "      <td>10265843</td>\n",
              "      <td>너무재밓었다그래서보는것을추천한다</td>\n",
              "      <td>0</td>\n",
              "    </tr>\n",
              "    <tr>\n",
              "      <th>3</th>\n",
              "      <td>9045019</td>\n",
              "      <td>교도소 이야기구먼 ..솔직히 재미는 없다..평점 조정</td>\n",
              "      <td>0</td>\n",
              "    </tr>\n",
              "    <tr>\n",
              "      <th>4</th>\n",
              "      <td>6483659</td>\n",
              "      <td>사이몬페그의 익살스런 연기가 돋보였던 영화!스파이더맨에서 늙어보이기만 했던 커스틴 ...</td>\n",
              "      <td>1</td>\n",
              "    </tr>\n",
              "  </tbody>\n",
              "</table>\n",
              "</div>"
            ],
            "text/plain": [
              "         id                                           document  label\n",
              "0   9976970                                아 더빙.. 진짜 짜증나네요 목소리      0\n",
              "1   3819312                  흠...포스터보고 초딩영화줄....오버연기조차 가볍지 않구나      1\n",
              "2  10265843                                  너무재밓었다그래서보는것을추천한다      0\n",
              "3   9045019                      교도소 이야기구먼 ..솔직히 재미는 없다..평점 조정      0\n",
              "4   6483659  사이몬페그의 익살스런 연기가 돋보였던 영화!스파이더맨에서 늙어보이기만 했던 커스틴 ...      1"
            ]
          },
          "metadata": {
            "tags": []
          },
          "execution_count": 7
        }
      ]
    },
    {
      "cell_type": "code",
      "metadata": {
        "id": "0lcL125RzP6Z"
      },
      "source": [
        "with open('./train.txt', 'w') as f1:\n",
        "  for text, label in zip(df_train['document'], df_train['label']):\n",
        "    #f1.writelines(text + \"\\u241E\" + str(label) + \"\\n\")\n",
        "    #f1.writelines(text + \"\\u241E\" + str(label) + \"\\n\")\n",
        "    f1.writelines(\"%s\\u241E%d\\n\" %(text, label))\n",
        "\n",
        "with open('./test.txt', 'w') as f2:\n",
        "  for text, label in zip(df_test['document'], df_test['label']):\n",
        "    #f2.writelines(text + \"\\u241E\" + str(label) + \"\\n\")\n",
        "    f2.writelines(\"%s\\u241E%d\\n\" %(text, label))\n"
      ],
      "execution_count": 5,
      "outputs": []
    },
    {
      "cell_type": "code",
      "metadata": {
        "id": "b3yTHru414L5",
        "colab": {
          "base_uri": "https://localhost:8080/"
        },
        "outputId": "badfd36a-ea06-4bd5-b139-47399451cb59"
      },
      "source": [
        "!head ./train.txt"
      ],
      "execution_count": null,
      "outputs": [
        {
          "output_type": "stream",
          "text": [
            "아 더빙.. 진짜 짜증나네요 목소리␞0\n",
            "흠...포스터보고 초딩영화줄....오버연기조차 가볍지 않구나␞1\n",
            "너무재밓었다그래서보는것을추천한다␞0\n",
            "교도소 이야기구먼 ..솔직히 재미는 없다..평점 조정␞0\n",
            "사이몬페그의 익살스런 연기가 돋보였던 영화!스파이더맨에서 늙어보이기만 했던 커스틴 던스트가 너무나도 이뻐보였다␞1\n",
            "막 걸음마 뗀 3세부터 초등학교 1학년생인 8살용영화.ㅋㅋㅋ...별반개도 아까움.␞0\n",
            "원작의 긴장감을 제대로 살려내지못했다.␞0\n",
            "별 반개도 아깝다 욕나온다 이응경 길용우 연기생활이몇년인지..정말 발로해도 그것보단 낫겟다 납치.감금만반복반복..이드라마는 가족도없다 연기못하는사람만모엿네␞0\n",
            "액션이 없는데도 재미 있는 몇안되는 영화␞1\n",
            "왜케 평점이 낮은건데? 꽤 볼만한데.. 헐리우드식 화려함에만 너무 길들여져 있나?␞1\n"
          ],
          "name": "stdout"
        }
      ]
    },
    {
      "cell_type": "code",
      "metadata": {
        "colab": {
          "base_uri": "https://localhost:8080/"
        },
        "id": "_5mdhQL1k97h",
        "outputId": "2ef684eb-3096-492a-93b8-6cdc8afdb760"
      },
      "source": [
        "!head ./test.txt"
      ],
      "execution_count": null,
      "outputs": [
        {
          "output_type": "stream",
          "text": [
            "굳 ㅋ␞1\n",
            "GDNTOPCLASSINTHECLUB␞0\n",
            "뭐야 이 평점들은.... 나쁘진 않지만 10점 짜리는 더더욱 아니잖아␞0\n",
            "지루하지는 않은데 완전 막장임... 돈주고 보기에는....␞0\n",
            "3D만 아니었어도 별 다섯 개 줬을텐데.. 왜 3D로 나와서 제 심기를 불편하게 하죠??␞0\n",
            "음악이 주가 된, 최고의 음악영화␞1\n",
            "진정한 쓰레기␞0\n",
            "마치 미국애니에서 튀어나온듯한 창의력없는 로봇디자인부터가,고개를 젖게한다␞0\n",
            "갈수록 개판되가는 중국영화 유치하고 내용없음 폼잡다 끝남 말도안되는 무기에 유치한cg남무 아 그립다 동사서독같은 영화가 이건 3류아류작이다␞0\n",
            "이별의 아픔뒤에 찾아오는 새로운 인연의 기쁨 But, 모든 사람이 그렇지는 않네..␞1\n"
          ],
          "name": "stdout"
        }
      ]
    },
    {
      "cell_type": "code",
      "metadata": {
        "id": "ga4Up2pQLv08",
        "colab": {
          "base_uri": "https://localhost:8080/"
        },
        "outputId": "71d9bfed-2ff4-4b41-8181-f84c610d430d"
      },
      "source": [
        "!wc -l ./*.txt"
      ],
      "execution_count": 6,
      "outputs": [
        {
          "output_type": "stream",
          "text": [
            "   50001 ./ratings_test.txt\n",
            "  150001 ./ratings_train.txt\n",
            "   50000 ./test.txt\n",
            "  150000 ./train.txt\n",
            "  400002 total\n"
          ],
          "name": "stdout"
        }
      ]
    },
    {
      "cell_type": "code",
      "metadata": {
        "id": "0anoBdiTgbfU",
        "colab": {
          "base_uri": "https://localhost:8080/"
        },
        "outputId": "9787a1cb-6198-4287-80ed-04c64f6fe8bd"
      },
      "source": [
        "!pwd"
      ],
      "execution_count": null,
      "outputs": [
        {
          "output_type": "stream",
          "text": [
            "/content/nlp2/examples\n"
          ],
          "name": "stdout"
        }
      ]
    },
    {
      "cell_type": "code",
      "metadata": {
        "id": "izndpcammBbh"
      },
      "source": [
        "!mkdir -p ./tune-ckpt"
      ],
      "execution_count": 10,
      "outputs": []
    },
    {
      "cell_type": "code",
      "metadata": {
        "id": "kCC79ZNOXQTv",
        "colab": {
          "base_uri": "https://localhost:8080/"
        },
        "outputId": "a58719b6-7b9e-40f1-bc0d-c9e6693f4a7c"
      },
      "source": [
        "!wget https://storage.googleapis.com/bert_models/2018_11_23/multi_cased_L-12_H-768_A-12.zip"
      ],
      "execution_count": 7,
      "outputs": [
        {
          "output_type": "stream",
          "text": [
            "--2021-07-16 07:43:10--  https://storage.googleapis.com/bert_models/2018_11_23/multi_cased_L-12_H-768_A-12.zip\n",
            "Resolving storage.googleapis.com (storage.googleapis.com)... 74.125.204.128, 64.233.188.128, 64.233.189.128, ...\n",
            "Connecting to storage.googleapis.com (storage.googleapis.com)|74.125.204.128|:443... connected.\n",
            "HTTP request sent, awaiting response... 200 OK\n",
            "Length: 662903077 (632M) [application/zip]\n",
            "Saving to: ‘multi_cased_L-12_H-768_A-12.zip’\n",
            "\n",
            "multi_cased_L-12_H- 100%[===================>] 632.19M  67.7MB/s    in 10s     \n",
            "\n",
            "2021-07-16 07:43:21 (60.2 MB/s) - ‘multi_cased_L-12_H-768_A-12.zip’ saved [662903077/662903077]\n",
            "\n"
          ],
          "name": "stdout"
        }
      ]
    },
    {
      "cell_type": "code",
      "metadata": {
        "id": "WSb46t-VXSmO",
        "colab": {
          "base_uri": "https://localhost:8080/"
        },
        "outputId": "9218527e-da09-4dd2-d8aa-bdef40e4dd38"
      },
      "source": [
        "!unzip multi_cased_L-12_H-768_A-12.zip"
      ],
      "execution_count": 8,
      "outputs": [
        {
          "output_type": "stream",
          "text": [
            "Archive:  multi_cased_L-12_H-768_A-12.zip\n",
            "  inflating: multi_cased_L-12_H-768_A-12/bert_model.ckpt.meta  \n",
            "  inflating: multi_cased_L-12_H-768_A-12/bert_model.ckpt.data-00000-of-00001  \n",
            "replace multi_cased_L-12_H-768_A-12/vocab.txt? [y]es, [n]o, [A]ll, [N]one, [r]ename: A\n",
            "  inflating: multi_cased_L-12_H-768_A-12/vocab.txt  \n",
            "  inflating: multi_cased_L-12_H-768_A-12/bert_model.ckpt.index  \n",
            "  inflating: multi_cased_L-12_H-768_A-12/bert_config.json  \n"
          ],
          "name": "stdout"
        }
      ]
    },
    {
      "cell_type": "code",
      "metadata": {
        "id": "unL0-pt_72uk",
        "colab": {
          "base_uri": "https://localhost:8080/"
        },
        "outputId": "9b8b0403-d268-480d-c86a-f9429c83ad9c"
      },
      "source": [
        "!ls -l ./multi_cased_L-12_H-768_A-12/*"
      ],
      "execution_count": null,
      "outputs": [
        {
          "output_type": "stream",
          "text": [
            "-rw-r--r-- 1 root root       521 Nov 24  2018 ./multi_cased_L-12_H-768_A-12/bert_config.json\n",
            "-rw-r--r-- 1 root root 714266612 Nov 24  2018 ./multi_cased_L-12_H-768_A-12/bert_model.ckpt.data-00000-of-00001\n",
            "-rw-r--r-- 1 root root      8631 Nov 24  2018 ./multi_cased_L-12_H-768_A-12/bert_model.ckpt.index\n",
            "-rw-r--r-- 1 root root    908833 Nov 24  2018 ./multi_cased_L-12_H-768_A-12/bert_model.ckpt.meta\n",
            "-rw-r--r-- 1 root root    995526 Nov 24  2018 ./multi_cased_L-12_H-768_A-12/vocab.txt\n"
          ],
          "name": "stdout"
        }
      ]
    },
    {
      "cell_type": "code",
      "metadata": {
        "id": "PbDWyPDwEJ0-",
        "colab": {
          "base_uri": "https://localhost:8080/"
        },
        "outputId": "88b52f11-37ba-48ce-cb02-38cf541bd723"
      },
      "source": [
        "!ls -l "
      ],
      "execution_count": null,
      "outputs": [
        {
          "output_type": "stream",
          "text": [
            "total 702348\n",
            "-rw-r--r-- 1 root root      1483 Jul  7 05:55 02_chatbot_kogpt2_test.py\n",
            "-rw-r--r-- 1 root root      2920 Jul  7 05:55 02_chatbot_kogpt2_train.py\n",
            "-rw-r--r-- 1 root root      3507 Jul  7 05:55 11_chatbot_transformer_test.py\n",
            "-rw-r--r-- 1 root root      5040 Jul  7 05:55 11_chatbot_transformer_train.py\n",
            "-rw-r--r-- 1 root root       932 Jul  7 05:55 configuration.py\n",
            "-rw-r--r-- 1 root root      2829 Jul  7 05:55 kobert.py\n",
            "-rw-r--r-- 1 root root      1119 Jul  7 05:55 kogpt2.py\n",
            "drwxr-xr-x 2 root root      4096 Nov 24  2018 multi_cased_L-12_H-768_A-12\n",
            "-rw-r--r-- 1 root root 662903077 Nov 24  2018 multi_cased_L-12_H-768_A-12.zip\n",
            "-rw-r--r-- 1 root root     11114 Jul  7 05:55 preprocess.py\n",
            "-rw-r--r-- 1 root root   4893335 Jul  7 06:03 ratings_test.txt\n",
            "-rw-r--r-- 1 root root   4592931 Jul  7 06:03 ratings_test.txt_new\n",
            "-rw-r--r-- 1 root root  14628807 Jul  7 06:03 ratings_train.txt\n",
            "-rw-r--r-- 1 root root  13727160 Jul  7 06:03 ratings_train.txt_new\n",
            "-rw------- 1 root root      2291 Jul  7 06:09 supervised_nlputils.py\n",
            "-rw-r--r-- 1 root root   4592931 Jul  7 06:07 test.txt\n",
            "-rw-r--r-- 1 root root  13727160 Jul  7 06:07 train.txt\n",
            "-rw-r--r-- 1 root root     12159 Jul  7 05:55 transformer.py\n",
            "-rw------- 1 root root     48891 Jul  7 06:09 tune_utils.py\n",
            "-rw-r--r-- 1 root root      3042 Jul  7 05:55 wellness.py\n"
          ],
          "name": "stdout"
        }
      ]
    },
    {
      "cell_type": "code",
      "metadata": {
        "colab": {
          "base_uri": "https://localhost:8080/"
        },
        "id": "gnN5qLXRCreN",
        "outputId": "df5facf4-f9fa-4319-b939-e900d53d1a6c"
      },
      "source": [
        "# fine tuning (num_labels = 2)\n",
        "!python ./tune_utils.py --model_name bert \\\n",
        "  --train_corpus_fname ./train.txt \\\n",
        "  --test_corpus_fname ./test.txt \\\n",
        "  --vocab_fname ./multi_cased_L-12_H-768_A-12/vocab.txt \\\n",
        "  --pretrain_model_fname ./multi_cased_L-12_H-768_A-12/bert_model.ckpt \\\n",
        "  --config_fname ./multi_cased_L-12_H-768_A-12/bert_config.json \\\n",
        "  --model_save_path ./tune-ckpt \\\n",
        "  --num_labels 2"
      ],
      "execution_count": null,
      "outputs": [
        {
          "output_type": "stream",
          "text": [
            "WARNING:tensorflow:From ../models/bert/optimization.py:87: The name tf.train.Optimizer is deprecated. Please use tf.compat.v1.train.Optimizer instead.\n",
            "\n",
            "WARNING:tensorflow:From ./tune_utils.py:157: The name tf.logging.set_verbosity is deprecated. Please use tf.compat.v1.logging.set_verbosity instead.\n",
            "\n",
            "WARNING:tensorflow:From ./tune_utils.py:157: The name tf.logging.INFO is deprecated. Please use tf.compat.v1.logging.INFO instead.\n",
            "\n",
            "WARNING:tensorflow:From ../models/bert/tokenization.py:125: The name tf.gfile.GFile is deprecated. Please use tf.io.gfile.GFile instead.\n",
            "\n",
            "WARNING:tensorflow:From ./tune_utils.py:189: The name tf.logging.info is deprecated. Please use tf.compat.v1.logging.info instead.\n",
            "\n",
            "INFO:tensorflow:load tokenized corpus : ./train.txt.bert-tokenized\n",
            "INFO:tensorflow:load tokenized corpus : ./test.txt.bert-tokenized\n",
            "WARNING:tensorflow:From ./tune_utils.py:354: The name tf.placeholder is deprecated. Please use tf.compat.v1.placeholder instead.\n",
            "\n",
            "WARNING:tensorflow:From ../models/bert/modeling.py:171: The name tf.variable_scope is deprecated. Please use tf.compat.v1.variable_scope instead.\n",
            "\n",
            "WARNING:tensorflow:From ../models/bert/modeling.py:409: The name tf.get_variable is deprecated. Please use tf.compat.v1.get_variable instead.\n",
            "\n",
            "WARNING:tensorflow:From ../models/bert/modeling.py:490: The name tf.assert_less_equal is deprecated. Please use tf.compat.v1.assert_less_equal instead.\n",
            "\n",
            "WARNING:tensorflow:\n",
            "The TensorFlow contrib module will not be included in TensorFlow 2.0.\n",
            "For more information, please see:\n",
            "  * https://github.com/tensorflow/community/blob/master/rfcs/20180907-contrib-sunset.md\n",
            "  * https://github.com/tensorflow/addons\n",
            "  * https://github.com/tensorflow/io (for I/O related ops)\n",
            "If you depend on functionality not listed there, please file an issue.\n",
            "\n",
            "WARNING:tensorflow:From ../models/bert/modeling.py:358: calling dropout (from tensorflow.python.ops.nn_ops) with keep_prob is deprecated and will be removed in a future version.\n",
            "Instructions for updating:\n",
            "Please use `rate` instead of `keep_prob`. Rate should be set to `rate = 1 - keep_prob`.\n",
            "WARNING:tensorflow:From ../models/bert/modeling.py:671: dense (from tensorflow.python.layers.core) is deprecated and will be removed in a future version.\n",
            "Instructions for updating:\n",
            "Use keras.layers.Dense instead.\n",
            "WARNING:tensorflow:From /tensorflow-1.15.2/python3.7/tensorflow_core/python/layers/core.py:187: Layer.apply (from tensorflow.python.keras.engine.base_layer) is deprecated and will be removed in a future version.\n",
            "Instructions for updating:\n",
            "Please use `layer.__call__` method instead.\n",
            "WARNING:tensorflow:From ./tune_utils.py:362: The name tf.train.get_or_create_global_step is deprecated. Please use tf.compat.v1.train.get_or_create_global_step instead.\n",
            "\n",
            "INFO:tensorflow:num_train_steps: 46760\n",
            "INFO:tensorflow:num_warmup_steps: 4676\n",
            "WARNING:tensorflow:From ../models/bert/optimization.py:32: The name tf.train.polynomial_decay is deprecated. Please use tf.compat.v1.train.polynomial_decay instead.\n",
            "\n",
            "WARNING:tensorflow:From ../models/bert/optimization.py:70: The name tf.trainable_variables is deprecated. Please use tf.compat.v1.trainable_variables instead.\n",
            "\n",
            "WARNING:tensorflow:From /tensorflow-1.15.2/python3.7/tensorflow_core/python/ops/math_grad.py:1375: where (from tensorflow.python.ops.array_ops) is deprecated and will be removed in a future version.\n",
            "Instructions for updating:\n",
            "Use tf.where in 2.0, which has the same broadcast rule as np.where\n",
            "WARNING:tensorflow:From ./tune_utils.py:368: The name tf.Session is deprecated. Please use tf.compat.v1.Session instead.\n",
            "\n",
            "2021-07-14 01:46:50.874292: I tensorflow/stream_executor/platform/default/dso_loader.cc:44] Successfully opened dynamic library libcuda.so.1\n",
            "2021-07-14 01:46:50.897340: I tensorflow/stream_executor/cuda/cuda_gpu_executor.cc:983] successful NUMA node read from SysFS had negative value (-1), but there must be at least one NUMA node, so returning NUMA node zero\n",
            "2021-07-14 01:46:50.897971: I tensorflow/core/common_runtime/gpu/gpu_device.cc:1639] Found device 0 with properties: \n",
            "name: Tesla P100-PCIE-16GB major: 6 minor: 0 memoryClockRate(GHz): 1.3285\n",
            "pciBusID: 0000:00:04.0\n",
            "2021-07-14 01:46:50.898262: I tensorflow/stream_executor/platform/default/dso_loader.cc:44] Successfully opened dynamic library libcudart.so.10.1\n",
            "2021-07-14 01:46:50.899965: I tensorflow/stream_executor/platform/default/dso_loader.cc:44] Successfully opened dynamic library libcublas.so.10\n",
            "2021-07-14 01:46:50.901897: I tensorflow/stream_executor/platform/default/dso_loader.cc:44] Successfully opened dynamic library libcufft.so.10\n",
            "2021-07-14 01:46:50.902239: I tensorflow/stream_executor/platform/default/dso_loader.cc:44] Successfully opened dynamic library libcurand.so.10\n",
            "2021-07-14 01:46:50.904020: I tensorflow/stream_executor/platform/default/dso_loader.cc:44] Successfully opened dynamic library libcusolver.so.10\n",
            "2021-07-14 01:46:50.905252: I tensorflow/stream_executor/platform/default/dso_loader.cc:44] Successfully opened dynamic library libcusparse.so.10\n",
            "2021-07-14 01:46:50.909311: I tensorflow/stream_executor/platform/default/dso_loader.cc:44] Successfully opened dynamic library libcudnn.so.7\n",
            "2021-07-14 01:46:50.909427: I tensorflow/stream_executor/cuda/cuda_gpu_executor.cc:983] successful NUMA node read from SysFS had negative value (-1), but there must be at least one NUMA node, so returning NUMA node zero\n",
            "2021-07-14 01:46:50.910139: I tensorflow/stream_executor/cuda/cuda_gpu_executor.cc:983] successful NUMA node read from SysFS had negative value (-1), but there must be at least one NUMA node, so returning NUMA node zero\n",
            "2021-07-14 01:46:50.910686: I tensorflow/core/common_runtime/gpu/gpu_device.cc:1767] Adding visible gpu devices: 0\n",
            "2021-07-14 01:46:50.915966: I tensorflow/core/platform/profile_utils/cpu_utils.cc:94] CPU Frequency: 2299995000 Hz\n",
            "2021-07-14 01:46:50.916224: I tensorflow/compiler/xla/service/service.cc:168] XLA service 0x55fc6cf34840 initialized for platform Host (this does not guarantee that XLA will be used). Devices:\n",
            "2021-07-14 01:46:50.916254: I tensorflow/compiler/xla/service/service.cc:176]   StreamExecutor device (0): Host, Default Version\n",
            "2021-07-14 01:46:51.138704: I tensorflow/stream_executor/cuda/cuda_gpu_executor.cc:983] successful NUMA node read from SysFS had negative value (-1), but there must be at least one NUMA node, so returning NUMA node zero\n",
            "2021-07-14 01:46:51.139553: I tensorflow/compiler/xla/service/service.cc:168] XLA service 0x55fc6cf35480 initialized for platform CUDA (this does not guarantee that XLA will be used). Devices:\n",
            "2021-07-14 01:46:51.139588: I tensorflow/compiler/xla/service/service.cc:176]   StreamExecutor device (0): Tesla P100-PCIE-16GB, Compute Capability 6.0\n",
            "2021-07-14 01:46:51.139747: I tensorflow/stream_executor/cuda/cuda_gpu_executor.cc:983] successful NUMA node read from SysFS had negative value (-1), but there must be at least one NUMA node, so returning NUMA node zero\n",
            "2021-07-14 01:46:51.140325: I tensorflow/core/common_runtime/gpu/gpu_device.cc:1639] Found device 0 with properties: \n",
            "name: Tesla P100-PCIE-16GB major: 6 minor: 0 memoryClockRate(GHz): 1.3285\n",
            "pciBusID: 0000:00:04.0\n",
            "2021-07-14 01:46:51.140385: I tensorflow/stream_executor/platform/default/dso_loader.cc:44] Successfully opened dynamic library libcudart.so.10.1\n",
            "2021-07-14 01:46:51.140404: I tensorflow/stream_executor/platform/default/dso_loader.cc:44] Successfully opened dynamic library libcublas.so.10\n",
            "2021-07-14 01:46:51.140425: I tensorflow/stream_executor/platform/default/dso_loader.cc:44] Successfully opened dynamic library libcufft.so.10\n",
            "2021-07-14 01:46:51.140441: I tensorflow/stream_executor/platform/default/dso_loader.cc:44] Successfully opened dynamic library libcurand.so.10\n",
            "2021-07-14 01:46:51.140453: I tensorflow/stream_executor/platform/default/dso_loader.cc:44] Successfully opened dynamic library libcusolver.so.10\n",
            "2021-07-14 01:46:51.140466: I tensorflow/stream_executor/platform/default/dso_loader.cc:44] Successfully opened dynamic library libcusparse.so.10\n",
            "2021-07-14 01:46:51.140480: I tensorflow/stream_executor/platform/default/dso_loader.cc:44] Successfully opened dynamic library libcudnn.so.7\n",
            "2021-07-14 01:46:51.140542: I tensorflow/stream_executor/cuda/cuda_gpu_executor.cc:983] successful NUMA node read from SysFS had negative value (-1), but there must be at least one NUMA node, so returning NUMA node zero\n",
            "2021-07-14 01:46:51.141117: I tensorflow/stream_executor/cuda/cuda_gpu_executor.cc:983] successful NUMA node read from SysFS had negative value (-1), but there must be at least one NUMA node, so returning NUMA node zero\n",
            "2021-07-14 01:46:51.141620: I tensorflow/core/common_runtime/gpu/gpu_device.cc:1767] Adding visible gpu devices: 0\n",
            "2021-07-14 01:46:51.141682: I tensorflow/stream_executor/platform/default/dso_loader.cc:44] Successfully opened dynamic library libcudart.so.10.1\n",
            "2021-07-14 01:46:51.142917: I tensorflow/core/common_runtime/gpu/gpu_device.cc:1180] Device interconnect StreamExecutor with strength 1 edge matrix:\n",
            "2021-07-14 01:46:51.142945: I tensorflow/core/common_runtime/gpu/gpu_device.cc:1186]      0 \n",
            "2021-07-14 01:46:51.142953: I tensorflow/core/common_runtime/gpu/gpu_device.cc:1199] 0:   N \n",
            "2021-07-14 01:46:51.143063: I tensorflow/stream_executor/cuda/cuda_gpu_executor.cc:983] successful NUMA node read from SysFS had negative value (-1), but there must be at least one NUMA node, so returning NUMA node zero\n",
            "2021-07-14 01:46:51.143646: I tensorflow/stream_executor/cuda/cuda_gpu_executor.cc:983] successful NUMA node read from SysFS had negative value (-1), but there must be at least one NUMA node, so returning NUMA node zero\n",
            "2021-07-14 01:46:51.144184: W tensorflow/core/common_runtime/gpu/gpu_bfc_allocator.cc:39] Overriding allow_growth setting because the TF_FORCE_GPU_ALLOW_GROWTH environment variable is set. Original config value was 0.\n",
            "2021-07-14 01:46:51.144222: I tensorflow/core/common_runtime/gpu/gpu_device.cc:1325] Created TensorFlow device (/job:localhost/replica:0/task:0/device:GPU:0 with 15224 MB memory) -> physical GPU (device: 0, name: Tesla P100-PCIE-16GB, pci bus id: 0000:00:04.0, compute capability: 6.0)\n",
            "WARNING:tensorflow:From ./tune_utils.py:369: The name tf.global_variables_initializer is deprecated. Please use tf.compat.v1.global_variables_initializer instead.\n",
            "\n",
            "WARNING:tensorflow:From ./tune_utils.py:370: The name tf.train.Saver is deprecated. Please use tf.compat.v1.train.Saver instead.\n",
            "\n",
            "INFO:tensorflow:Restoring parameters from ./multi_cased_L-12_H-768_A-12/bert_model.ckpt\n",
            "INFO:tensorflow:num_batches_per_epoch : 4675\n",
            "./tune_utils.py:305: VisibleDeprecationWarning: Creating an ndarray from ragged nested sequences (which is a list-or-tuple of lists-or-tuples-or ndarrays with different lengths or shapes) is deprecated. If you meant to do this, you must specify 'dtype=object' when creating the ndarray\n",
            "  data = np.array(data)[idx]\n",
            "2021-07-14 01:47:08.077911: I tensorflow/stream_executor/platform/default/dso_loader.cc:44] Successfully opened dynamic library libcublas.so.10\n",
            "train (0) 46760 : 0 / 0\n",
            "train (0) 46760 : 0 / 100\n",
            "train (0) 46760 : 0 / 200\n",
            "train (0) 46760 : 0 / 300\n",
            "train (0) 46760 : 0 / 400\n",
            "train (0) 46760 : 0 / 500\n",
            "train (0) 46760 : 0 / 600\n",
            "train (0) 46760 : 0 / 700\n",
            "train (0) 46760 : 0 / 800\n",
            "train (0) 46760 : 0 / 900\n",
            "INFO:tensorflow:global step 1000 train loss 0.1159\n",
            "validation 1557 / 0\n",
            "validation 1557 / 100\n",
            "validation 1557 / 200\n",
            "validation 1557 / 300\n",
            "validation 1557 / 400\n",
            "validation 1557 / 500\n",
            "validation 1557 / 600\n",
            "validation 1557 / 700\n",
            "validation 1557 / 800\n",
            "validation 1557 / 900\n",
            "validation 1557 / 1000\n",
            "validation 1557 / 1100\n",
            "validation 1557 / 1200\n",
            "validation 1557 / 1300\n",
            "validation 1557 / 1400\n",
            "validation 1557 / 1500\n",
            "INFO:tensorflow:valid loss 714.1753 valid score 0.7831\n",
            "train (0) 46760 : 0 / 1000\n",
            "train (0) 46760 : 0 / 1100\n",
            "train (0) 46760 : 0 / 1200\n",
            "train (0) 46760 : 0 / 1300\n",
            "train (0) 46760 : 0 / 1400\n",
            "train (0) 46760 : 0 / 1500\n",
            "train (0) 46760 : 0 / 1600\n",
            "train (0) 46760 : 0 / 1700\n",
            "train (0) 46760 : 0 / 1800\n",
            "train (0) 46760 : 0 / 1900\n",
            "INFO:tensorflow:global step 2000 train loss 0.0885\n",
            "validation 1557 / 0\n",
            "validation 1557 / 100\n",
            "validation 1557 / 200\n",
            "validation 1557 / 300\n",
            "validation 1557 / 400\n",
            "validation 1557 / 500\n",
            "validation 1557 / 600\n",
            "validation 1557 / 700\n",
            "validation 1557 / 800\n",
            "validation 1557 / 900\n",
            "validation 1557 / 1000\n",
            "validation 1557 / 1100\n",
            "validation 1557 / 1200\n",
            "validation 1557 / 1300\n",
            "validation 1557 / 1400\n",
            "validation 1557 / 1500\n",
            "INFO:tensorflow:valid loss 587.3561 valid score 0.8309\n",
            "WARNING:tensorflow:From /tensorflow-1.15.2/python3.7/tensorflow_core/python/training/saver.py:963: remove_checkpoint (from tensorflow.python.training.checkpoint_management) is deprecated and will be removed in a future version.\n",
            "Instructions for updating:\n",
            "Use standard file APIs to delete files with this prefix.\n",
            "train (0) 46760 : 0 / 2000\n",
            "train (0) 46760 : 0 / 2100\n",
            "train (0) 46760 : 0 / 2200\n",
            "train (0) 46760 : 0 / 2300\n",
            "train (0) 46760 : 0 / 2400\n",
            "train (0) 46760 : 0 / 2500\n",
            "train (0) 46760 : 0 / 2600\n",
            "train (0) 46760 : 0 / 2700\n",
            "train (0) 46760 : 0 / 2800\n",
            "train (0) 46760 : 0 / 2900\n",
            "INFO:tensorflow:global step 3000 train loss 0.0799\n",
            "validation 1557 / 0\n",
            "validation 1557 / 100\n",
            "validation 1557 / 200\n",
            "validation 1557 / 300\n",
            "validation 1557 / 400\n",
            "validation 1557 / 500\n",
            "validation 1557 / 600\n",
            "validation 1557 / 700\n",
            "validation 1557 / 800\n",
            "validation 1557 / 900\n",
            "validation 1557 / 1000\n",
            "validation 1557 / 1100\n",
            "validation 1557 / 1200\n",
            "validation 1557 / 1300\n",
            "validation 1557 / 1400\n",
            "validation 1557 / 1500\n",
            "INFO:tensorflow:valid loss 557.1822 valid score 0.8398\n",
            "train (0) 46760 : 0 / 3000\n",
            "train (0) 46760 : 0 / 3100\n",
            "train (0) 46760 : 0 / 3200\n",
            "train (0) 46760 : 0 / 3300\n",
            "train (0) 46760 : 0 / 3400\n",
            "train (0) 46760 : 0 / 3500\n",
            "train (0) 46760 : 0 / 3600\n",
            "train (0) 46760 : 0 / 3700\n",
            "train (0) 46760 : 0 / 3800\n",
            "train (0) 46760 : 0 / 3900\n",
            "INFO:tensorflow:global step 4000 train loss 0.0757\n",
            "validation 1557 / 0\n",
            "validation 1557 / 100\n",
            "validation 1557 / 200\n",
            "validation 1557 / 300\n",
            "validation 1557 / 400\n",
            "validation 1557 / 500\n",
            "validation 1557 / 600\n",
            "validation 1557 / 700\n",
            "validation 1557 / 800\n",
            "validation 1557 / 900\n",
            "validation 1557 / 1000\n",
            "validation 1557 / 1100\n",
            "validation 1557 / 1200\n",
            "validation 1557 / 1300\n",
            "validation 1557 / 1400\n",
            "validation 1557 / 1500\n",
            "INFO:tensorflow:valid loss 527.8426 valid score 0.8509\n",
            "train (0) 46760 : 0 / 4000\n",
            "train (0) 46760 : 0 / 4100\n",
            "train (0) 46760 : 0 / 4200\n",
            "train (0) 46760 : 0 / 4300\n",
            "train (0) 46760 : 0 / 4400\n",
            "train (0) 46760 : 0 / 4500\n",
            "train (0) 46760 : 0 / 4600\n",
            "train (0) 46760 : 0 / 4700\n",
            "train (0) 46760 : 0 / 4800\n",
            "train (0) 46760 : 0 / 4900\n",
            "INFO:tensorflow:global step 5000 train loss 0.0712\n",
            "validation 1557 / 0\n",
            "validation 1557 / 100\n",
            "validation 1557 / 200\n",
            "validation 1557 / 300\n",
            "validation 1557 / 400\n",
            "validation 1557 / 500\n",
            "validation 1557 / 600\n",
            "validation 1557 / 700\n",
            "validation 1557 / 800\n",
            "validation 1557 / 900\n",
            "validation 1557 / 1000\n",
            "validation 1557 / 1100\n",
            "validation 1557 / 1200\n",
            "validation 1557 / 1300\n",
            "validation 1557 / 1400\n",
            "validation 1557 / 1500\n",
            "INFO:tensorflow:valid loss 526.0794 valid score 0.8581\n",
            "train (0) 46760 : 0 / 5000\n",
            "train (0) 46760 : 0 / 5100\n",
            "train (0) 46760 : 0 / 5200\n",
            "train (0) 46760 : 0 / 5300\n",
            "train (0) 46760 : 0 / 5400\n",
            "train (0) 46760 : 0 / 5500\n",
            "train (0) 46760 : 0 / 5600\n",
            "train (0) 46760 : 0 / 5700\n",
            "train (0) 46760 : 0 / 5800\n",
            "train (0) 46760 : 0 / 5900\n",
            "INFO:tensorflow:global step 6000 train loss 0.0652\n",
            "validation 1557 / 0\n",
            "validation 1557 / 100\n",
            "validation 1557 / 200\n",
            "validation 1557 / 300\n",
            "validation 1557 / 400\n",
            "validation 1557 / 500\n",
            "validation 1557 / 600\n",
            "validation 1557 / 700\n",
            "validation 1557 / 800\n",
            "validation 1557 / 900\n",
            "validation 1557 / 1000\n",
            "validation 1557 / 1100\n",
            "validation 1557 / 1200\n",
            "validation 1557 / 1300\n",
            "validation 1557 / 1400\n",
            "validation 1557 / 1500\n",
            "INFO:tensorflow:valid loss 513.1283 valid score 0.8563\n",
            "train (0) 46760 : 0 / 6000\n",
            "train (0) 46760 : 0 / 6100\n",
            "train (0) 46760 : 0 / 6200\n",
            "train (0) 46760 : 0 / 6300\n",
            "train (0) 46760 : 0 / 6400\n",
            "train (0) 46760 : 0 / 6500\n",
            "train (0) 46760 : 0 / 6600\n",
            "train (0) 46760 : 0 / 6700\n",
            "train (0) 46760 : 0 / 6800\n",
            "train (0) 46760 : 0 / 6900\n",
            "INFO:tensorflow:global step 7000 train loss 0.0600\n",
            "validation 1557 / 0\n",
            "validation 1557 / 100\n",
            "validation 1557 / 200\n",
            "validation 1557 / 300\n",
            "validation 1557 / 400\n",
            "validation 1557 / 500\n",
            "validation 1557 / 600\n",
            "validation 1557 / 700\n",
            "validation 1557 / 800\n",
            "validation 1557 / 900\n",
            "validation 1557 / 1000\n",
            "validation 1557 / 1100\n",
            "validation 1557 / 1200\n",
            "validation 1557 / 1300\n",
            "validation 1557 / 1400\n",
            "validation 1557 / 1500\n",
            "INFO:tensorflow:valid loss 513.0020 valid score 0.8613\n",
            "train (0) 46760 : 0 / 7000\n",
            "train (0) 46760 : 0 / 7100\n",
            "train (0) 46760 : 0 / 7200\n",
            "train (0) 46760 : 0 / 7300\n",
            "train (0) 46760 : 0 / 7400\n",
            "Traceback (most recent call last):\n",
            "  File \"./tune_utils.py\", line 613, in <module>\n",
            "    model.tune()\n",
            "  File \"./tune_utils.py\", line 372, in tune\n",
            "    self.train(sess, saver, global_step, output_feed)\n",
            "  File \"./tune_utils.py\", line 230, in train\n",
            "    _, _, current_logits, current_loss = sess.run(output_feed, current_input_feed)\n",
            "  File \"/tensorflow-1.15.2/python3.7/tensorflow_core/python/client/session.py\", line 956, in run\n",
            "    run_metadata_ptr)\n",
            "  File \"/tensorflow-1.15.2/python3.7/tensorflow_core/python/client/session.py\", line 1180, in _run\n",
            "    feed_dict_tensor, options, run_metadata)\n",
            "  File \"/tensorflow-1.15.2/python3.7/tensorflow_core/python/client/session.py\", line 1359, in _do_run\n",
            "    run_metadata)\n",
            "  File \"/tensorflow-1.15.2/python3.7/tensorflow_core/python/client/session.py\", line 1365, in _do_call\n",
            "    return fn(*args)\n",
            "  File \"/tensorflow-1.15.2/python3.7/tensorflow_core/python/client/session.py\", line 1350, in _run_fn\n",
            "    target_list, run_metadata)\n",
            "  File \"/tensorflow-1.15.2/python3.7/tensorflow_core/python/client/session.py\", line 1443, in _call_tf_sessionrun\n",
            "    run_metadata)\n",
            "KeyboardInterrupt\n"
          ],
          "name": "stdout"
        }
      ]
    },
    {
      "cell_type": "code",
      "metadata": {
        "colab": {
          "base_uri": "https://localhost:8080/"
        },
        "id": "2J6MVM6c2Y-u",
        "outputId": "101918e8-f6ec-43da-9323-ddb37e29b2e8"
      },
      "source": [
        "# train_corpus_fname=train.txt\n",
        "# test_corpus_fname=test.txt\n",
        "!python ./01_bert_train.py --train_corpus_fname=train.txt.1 --test_corpus_fname=test.txt.1"
      ],
      "execution_count": null,
      "outputs": [
        {
          "output_type": "stream",
          "text": [
            "WARNING:tensorflow:From ../models/bert/optimization.py:87: The name tf.train.Optimizer is deprecated. Please use tf.compat.v1.train.Optimizer instead.\n",
            "\n",
            "WARNING:tensorflow:From ./01_bert_train.py:157: The name tf.logging.set_verbosity is deprecated. Please use tf.compat.v1.logging.set_verbosity instead.\n",
            "\n",
            "WARNING:tensorflow:From ./01_bert_train.py:157: The name tf.logging.INFO is deprecated. Please use tf.compat.v1.logging.INFO instead.\n",
            "\n",
            "WARNING:tensorflow:From ../models/bert/tokenization.py:125: The name tf.gfile.GFile is deprecated. Please use tf.io.gfile.GFile instead.\n",
            "\n",
            "WARNING:tensorflow:From ./01_bert_train.py:187: The name tf.logging.info is deprecated. Please use tf.compat.v1.logging.info instead.\n",
            "\n",
            "INFO:tensorflow:load tokenized corpus : train.txt.1.bert-tokenized\n",
            "INFO:tensorflow:load tokenized corpus : test.txt.1.bert-tokenized\n",
            "WARNING:tensorflow:From ./01_bert_train.py:334: The name tf.placeholder is deprecated. Please use tf.compat.v1.placeholder instead.\n",
            "\n",
            "WARNING:tensorflow:From ../models/bert/modeling.py:171: The name tf.variable_scope is deprecated. Please use tf.compat.v1.variable_scope instead.\n",
            "\n",
            "WARNING:tensorflow:From ../models/bert/modeling.py:409: The name tf.get_variable is deprecated. Please use tf.compat.v1.get_variable instead.\n",
            "\n",
            "WARNING:tensorflow:From ../models/bert/modeling.py:490: The name tf.assert_less_equal is deprecated. Please use tf.compat.v1.assert_less_equal instead.\n",
            "\n",
            "WARNING:tensorflow:\n",
            "The TensorFlow contrib module will not be included in TensorFlow 2.0.\n",
            "For more information, please see:\n",
            "  * https://github.com/tensorflow/community/blob/master/rfcs/20180907-contrib-sunset.md\n",
            "  * https://github.com/tensorflow/addons\n",
            "  * https://github.com/tensorflow/io (for I/O related ops)\n",
            "If you depend on functionality not listed there, please file an issue.\n",
            "\n",
            "WARNING:tensorflow:From ../models/bert/modeling.py:358: calling dropout (from tensorflow.python.ops.nn_ops) with keep_prob is deprecated and will be removed in a future version.\n",
            "Instructions for updating:\n",
            "Please use `rate` instead of `keep_prob`. Rate should be set to `rate = 1 - keep_prob`.\n",
            "WARNING:tensorflow:From ../models/bert/modeling.py:671: dense (from tensorflow.python.layers.core) is deprecated and will be removed in a future version.\n",
            "Instructions for updating:\n",
            "Use keras.layers.Dense instead.\n",
            "WARNING:tensorflow:From /tensorflow-1.15.2/python3.7/tensorflow_core/python/layers/core.py:187: Layer.apply (from tensorflow.python.keras.engine.base_layer) is deprecated and will be removed in a future version.\n",
            "Instructions for updating:\n",
            "Please use `layer.__call__` method instead.\n",
            "WARNING:tensorflow:From ./01_bert_train.py:342: The name tf.train.get_or_create_global_step is deprecated. Please use tf.compat.v1.train.get_or_create_global_step instead.\n",
            "\n",
            "INFO:tensorflow:num_train_steps: 320\n",
            "INFO:tensorflow:num_warmup_steps: 32\n",
            "WARNING:tensorflow:From ../models/bert/optimization.py:32: The name tf.train.polynomial_decay is deprecated. Please use tf.compat.v1.train.polynomial_decay instead.\n",
            "\n",
            "WARNING:tensorflow:From ../models/bert/optimization.py:70: The name tf.trainable_variables is deprecated. Please use tf.compat.v1.trainable_variables instead.\n",
            "\n",
            "WARNING:tensorflow:From /tensorflow-1.15.2/python3.7/tensorflow_core/python/ops/math_grad.py:1375: where (from tensorflow.python.ops.array_ops) is deprecated and will be removed in a future version.\n",
            "Instructions for updating:\n",
            "Use tf.where in 2.0, which has the same broadcast rule as np.where\n",
            "WARNING:tensorflow:From ./01_bert_train.py:348: The name tf.Session is deprecated. Please use tf.compat.v1.Session instead.\n",
            "\n",
            "2021-07-08 07:23:21.553663: I tensorflow/stream_executor/platform/default/dso_loader.cc:44] Successfully opened dynamic library libcuda.so.1\n",
            "2021-07-08 07:23:21.558392: I tensorflow/stream_executor/cuda/cuda_gpu_executor.cc:983] successful NUMA node read from SysFS had negative value (-1), but there must be at least one NUMA node, so returning NUMA node zero\n",
            "2021-07-08 07:23:21.558967: I tensorflow/core/common_runtime/gpu/gpu_device.cc:1639] Found device 0 with properties: \n",
            "name: Tesla P100-PCIE-16GB major: 6 minor: 0 memoryClockRate(GHz): 1.3285\n",
            "pciBusID: 0000:00:04.0\n",
            "2021-07-08 07:23:21.560866: I tensorflow/stream_executor/platform/default/dso_loader.cc:44] Successfully opened dynamic library libcudart.so.10.1\n",
            "2021-07-08 07:23:21.573445: I tensorflow/stream_executor/platform/default/dso_loader.cc:44] Successfully opened dynamic library libcublas.so.10\n",
            "2021-07-08 07:23:21.577991: I tensorflow/stream_executor/platform/default/dso_loader.cc:44] Successfully opened dynamic library libcufft.so.10\n",
            "2021-07-08 07:23:21.583251: I tensorflow/stream_executor/platform/default/dso_loader.cc:44] Successfully opened dynamic library libcurand.so.10\n",
            "2021-07-08 07:23:21.591950: I tensorflow/stream_executor/platform/default/dso_loader.cc:44] Successfully opened dynamic library libcusolver.so.10\n",
            "2021-07-08 07:23:21.595273: I tensorflow/stream_executor/platform/default/dso_loader.cc:44] Successfully opened dynamic library libcusparse.so.10\n",
            "2021-07-08 07:23:21.608273: I tensorflow/stream_executor/platform/default/dso_loader.cc:44] Successfully opened dynamic library libcudnn.so.7\n",
            "2021-07-08 07:23:21.608398: I tensorflow/stream_executor/cuda/cuda_gpu_executor.cc:983] successful NUMA node read from SysFS had negative value (-1), but there must be at least one NUMA node, so returning NUMA node zero\n",
            "2021-07-08 07:23:21.608986: I tensorflow/stream_executor/cuda/cuda_gpu_executor.cc:983] successful NUMA node read from SysFS had negative value (-1), but there must be at least one NUMA node, so returning NUMA node zero\n",
            "2021-07-08 07:23:21.609470: I tensorflow/core/common_runtime/gpu/gpu_device.cc:1767] Adding visible gpu devices: 0\n",
            "2021-07-08 07:23:21.614495: I tensorflow/core/platform/profile_utils/cpu_utils.cc:94] CPU Frequency: 2199995000 Hz\n",
            "2021-07-08 07:23:21.614717: I tensorflow/compiler/xla/service/service.cc:168] XLA service 0x5603312c32c0 initialized for platform Host (this does not guarantee that XLA will be used). Devices:\n",
            "2021-07-08 07:23:21.614745: I tensorflow/compiler/xla/service/service.cc:176]   StreamExecutor device (0): Host, Default Version\n",
            "2021-07-08 07:23:21.841535: I tensorflow/stream_executor/cuda/cuda_gpu_executor.cc:983] successful NUMA node read from SysFS had negative value (-1), but there must be at least one NUMA node, so returning NUMA node zero\n",
            "2021-07-08 07:23:21.842407: I tensorflow/compiler/xla/service/service.cc:168] XLA service 0x5603312c3480 initialized for platform CUDA (this does not guarantee that XLA will be used). Devices:\n",
            "2021-07-08 07:23:21.842440: I tensorflow/compiler/xla/service/service.cc:176]   StreamExecutor device (0): Tesla P100-PCIE-16GB, Compute Capability 6.0\n",
            "2021-07-08 07:23:21.842626: I tensorflow/stream_executor/cuda/cuda_gpu_executor.cc:983] successful NUMA node read from SysFS had negative value (-1), but there must be at least one NUMA node, so returning NUMA node zero\n",
            "2021-07-08 07:23:21.843183: I tensorflow/core/common_runtime/gpu/gpu_device.cc:1639] Found device 0 with properties: \n",
            "name: Tesla P100-PCIE-16GB major: 6 minor: 0 memoryClockRate(GHz): 1.3285\n",
            "pciBusID: 0000:00:04.0\n",
            "2021-07-08 07:23:21.843263: I tensorflow/stream_executor/platform/default/dso_loader.cc:44] Successfully opened dynamic library libcudart.so.10.1\n",
            "2021-07-08 07:23:21.843289: I tensorflow/stream_executor/platform/default/dso_loader.cc:44] Successfully opened dynamic library libcublas.so.10\n",
            "2021-07-08 07:23:21.843317: I tensorflow/stream_executor/platform/default/dso_loader.cc:44] Successfully opened dynamic library libcufft.so.10\n",
            "2021-07-08 07:23:21.843337: I tensorflow/stream_executor/platform/default/dso_loader.cc:44] Successfully opened dynamic library libcurand.so.10\n",
            "2021-07-08 07:23:21.843357: I tensorflow/stream_executor/platform/default/dso_loader.cc:44] Successfully opened dynamic library libcusolver.so.10\n",
            "2021-07-08 07:23:21.843378: I tensorflow/stream_executor/platform/default/dso_loader.cc:44] Successfully opened dynamic library libcusparse.so.10\n",
            "2021-07-08 07:23:21.843401: I tensorflow/stream_executor/platform/default/dso_loader.cc:44] Successfully opened dynamic library libcudnn.so.7\n",
            "2021-07-08 07:23:21.843478: I tensorflow/stream_executor/cuda/cuda_gpu_executor.cc:983] successful NUMA node read from SysFS had negative value (-1), but there must be at least one NUMA node, so returning NUMA node zero\n",
            "2021-07-08 07:23:21.844051: I tensorflow/stream_executor/cuda/cuda_gpu_executor.cc:983] successful NUMA node read from SysFS had negative value (-1), but there must be at least one NUMA node, so returning NUMA node zero\n",
            "2021-07-08 07:23:21.844709: I tensorflow/core/common_runtime/gpu/gpu_device.cc:1767] Adding visible gpu devices: 0\n",
            "2021-07-08 07:23:21.845021: I tensorflow/stream_executor/platform/default/dso_loader.cc:44] Successfully opened dynamic library libcudart.so.10.1\n",
            "2021-07-08 07:23:21.846217: I tensorflow/core/common_runtime/gpu/gpu_device.cc:1180] Device interconnect StreamExecutor with strength 1 edge matrix:\n",
            "2021-07-08 07:23:21.846245: I tensorflow/core/common_runtime/gpu/gpu_device.cc:1186]      0 \n",
            "2021-07-08 07:23:21.846257: I tensorflow/core/common_runtime/gpu/gpu_device.cc:1199] 0:   N \n",
            "2021-07-08 07:23:21.846377: I tensorflow/stream_executor/cuda/cuda_gpu_executor.cc:983] successful NUMA node read from SysFS had negative value (-1), but there must be at least one NUMA node, so returning NUMA node zero\n",
            "2021-07-08 07:23:21.846952: I tensorflow/stream_executor/cuda/cuda_gpu_executor.cc:983] successful NUMA node read from SysFS had negative value (-1), but there must be at least one NUMA node, so returning NUMA node zero\n",
            "2021-07-08 07:23:21.847464: W tensorflow/core/common_runtime/gpu/gpu_bfc_allocator.cc:39] Overriding allow_growth setting because the TF_FORCE_GPU_ALLOW_GROWTH environment variable is set. Original config value was 0.\n",
            "2021-07-08 07:23:21.847503: I tensorflow/core/common_runtime/gpu/gpu_device.cc:1325] Created TensorFlow device (/job:localhost/replica:0/task:0/device:GPU:0 with 13885 MB memory) -> physical GPU (device: 0, name: Tesla P100-PCIE-16GB, pci bus id: 0000:00:04.0, compute capability: 6.0)\n",
            "WARNING:tensorflow:From ./01_bert_train.py:349: The name tf.global_variables_initializer is deprecated. Please use tf.compat.v1.global_variables_initializer instead.\n",
            "\n",
            "WARNING:tensorflow:From ./01_bert_train.py:350: The name tf.train.Saver is deprecated. Please use tf.compat.v1.train.Saver instead.\n",
            "\n",
            "INFO:tensorflow:Restoring parameters from ./multi_cased_L-12_H-768_A-12/bert_model.ckpt\n",
            "INFO:tensorflow:num_batches_per_epoch : 31\n",
            "./01_bert_train.py:285: VisibleDeprecationWarning: Creating an ndarray from ragged nested sequences (which is a list-or-tuple of lists-or-tuples-or ndarrays with different lengths or shapes) is deprecated. If you meant to do this, you must specify 'dtype=object' when creating the ndarray\n",
            "  data = np.array(data)[idx]\n",
            "2021-07-08 07:23:42.178204: I tensorflow/stream_executor/platform/default/dso_loader.cc:44] Successfully opened dynamic library libcublas.so.10\n",
            "INFO:tensorflow:global step 32 train loss 0.6977\n",
            "INFO:tensorflow:pred: 1, label: 0\n",
            "INFO:tensorflow:pred: 0, label: 1\n",
            "INFO:tensorflow:pred: 0, label: 1\n",
            "INFO:tensorflow:pred: 0, label: 1\n",
            "INFO:tensorflow:valid loss 9.9585 valid score 0.6438\n",
            "INFO:tensorflow:global step 64 train loss 0.5961\n",
            "INFO:tensorflow:pred: 0, label: 1\n",
            "INFO:tensorflow:pred: 0, label: 1\n",
            "INFO:tensorflow:pred: 0, label: 1\n",
            "INFO:tensorflow:pred: 0, label: 1\n",
            "INFO:tensorflow:valid loss 9.4872 valid score 0.6646\n",
            "WARNING:tensorflow:From /tensorflow-1.15.2/python3.7/tensorflow_core/python/training/saver.py:963: remove_checkpoint (from tensorflow.python.training.checkpoint_management) is deprecated and will be removed in a future version.\n",
            "Instructions for updating:\n",
            "Use standard file APIs to delete files with this prefix.\n",
            "INFO:tensorflow:global step 96 train loss 0.4081\n",
            "INFO:tensorflow:pred: 0, label: 1\n",
            "INFO:tensorflow:pred: 0, label: 1\n",
            "INFO:tensorflow:pred: 0, label: 1\n",
            "INFO:tensorflow:pred: 0, label: 1\n",
            "INFO:tensorflow:valid loss 10.7863 valid score 0.6854\n",
            "INFO:tensorflow:global step 128 train loss 0.2442\n",
            "INFO:tensorflow:pred: 0, label: 1\n",
            "INFO:tensorflow:pred: 0, label: 1\n",
            "INFO:tensorflow:pred: 1, label: 0\n",
            "INFO:tensorflow:pred: 0, label: 1\n",
            "INFO:tensorflow:valid loss 9.9612 valid score 0.7312\n",
            "INFO:tensorflow:global step 160 train loss 0.1187\n",
            "INFO:tensorflow:pred: 1, label: 0\n",
            "INFO:tensorflow:pred: 1, label: 0\n",
            "INFO:tensorflow:pred: 0, label: 1\n",
            "INFO:tensorflow:pred: 0, label: 1\n",
            "INFO:tensorflow:valid loss 15.9070 valid score 0.7292\n",
            "INFO:tensorflow:global step 192 train loss 0.0753\n",
            "INFO:tensorflow:pred: 1, label: 0\n",
            "INFO:tensorflow:pred: 0, label: 1\n",
            "INFO:tensorflow:pred: 0, label: 1\n",
            "INFO:tensorflow:pred: 1, label: 0\n",
            "INFO:tensorflow:valid loss 16.7883 valid score 0.7375\n",
            "INFO:tensorflow:global step 224 train loss 0.0492\n",
            "INFO:tensorflow:pred: 0, label: 1\n",
            "INFO:tensorflow:pred: 0, label: 1\n",
            "INFO:tensorflow:pred: 1, label: 0\n",
            "INFO:tensorflow:pred: 0, label: 1\n",
            "INFO:tensorflow:valid loss 17.1346 valid score 0.7375\n",
            "INFO:tensorflow:global step 256 train loss 0.0266\n",
            "INFO:tensorflow:pred: 0, label: 1\n",
            "INFO:tensorflow:pred: 1, label: 0\n",
            "INFO:tensorflow:pred: 1, label: 0\n",
            "INFO:tensorflow:pred: 0, label: 1\n",
            "INFO:tensorflow:valid loss 18.2059 valid score 0.7396\n",
            "INFO:tensorflow:global step 288 train loss 0.0471\n",
            "INFO:tensorflow:pred: 1, label: 0\n",
            "INFO:tensorflow:pred: 0, label: 1\n",
            "INFO:tensorflow:pred: 0, label: 1\n",
            "INFO:tensorflow:pred: 0, label: 1\n",
            "INFO:tensorflow:valid loss 17.4097 valid score 0.7438\n",
            "***** Eval results *****\n",
            "average valid scores: 0.7125\n"
          ],
          "name": "stdout"
        }
      ]
    },
    {
      "cell_type": "code",
      "metadata": {
        "id": "bhVrzo_eRWLY"
      },
      "source": [
        "!cp /content/drive/My\\ Drive/work/nlp/tune-ckpt/* ./tune-ckpt/"
      ],
      "execution_count": 13,
      "outputs": []
    },
    {
      "cell_type": "code",
      "metadata": {
        "colab": {
          "base_uri": "https://localhost:8080/"
        },
        "id": "DgpHjrZTCzNu",
        "outputId": "e3ba37f2-dee8-46eb-aaca-2e2778ea58e3"
      },
      "source": [
        "!ls -l ./tune-ckpt"
      ],
      "execution_count": 14,
      "outputs": [
        {
          "output_type": "stream",
          "text": [
            "total 2088268\n",
            "-rw------- 1 root root 2134259744 Jul 16 07:45 0.8744598271446863-17000.data-00000-of-00001\n",
            "-rw------- 1 root root      22769 Jul 16 07:45 0.8744598271446863-17000.index\n",
            "-rw------- 1 root root    4089853 Jul 16 07:45 0.8744598271446863-17000.meta\n",
            "-rw------- 1 root root        105 Jul 16 07:46 checkpoint\n"
          ],
          "name": "stdout"
        }
      ]
    },
    {
      "cell_type": "code",
      "metadata": {
        "colab": {
          "base_uri": "https://localhost:8080/"
        },
        "id": "fYzjOGQwRmw0",
        "outputId": "0234f4cd-697b-41a6-d1d4-f249064d7a74"
      },
      "source": [
        "!python ./01_bert_test.py"
      ],
      "execution_count": 19,
      "outputs": [
        {
          "output_type": "stream",
          "text": [
            "WARNING:tensorflow:From ../models/bert/optimization.py:87: The name tf.train.Optimizer is deprecated. Please use tf.compat.v1.train.Optimizer instead.\n",
            "\n",
            "WARNING:tensorflow:From /content/nlp2/examples/sent_eval.py:26: The name tf.reset_default_graph is deprecated. Please use tf.compat.v1.reset_default_graph instead.\n",
            "\n",
            "WARNING:tensorflow:From ../models/bert/modeling.py:93: The name tf.gfile.GFile is deprecated. Please use tf.io.gfile.GFile instead.\n",
            "\n",
            "WARNING:tensorflow:From /content/nlp2/examples/tune_utils.py:24: The name tf.placeholder is deprecated. Please use tf.compat.v1.placeholder instead.\n",
            "\n",
            "WARNING:tensorflow:From ../models/bert/modeling.py:171: The name tf.variable_scope is deprecated. Please use tf.compat.v1.variable_scope instead.\n",
            "\n",
            "WARNING:tensorflow:From ../models/bert/modeling.py:409: The name tf.get_variable is deprecated. Please use tf.compat.v1.get_variable instead.\n",
            "\n",
            "WARNING:tensorflow:From ../models/bert/modeling.py:490: The name tf.assert_less_equal is deprecated. Please use tf.compat.v1.assert_less_equal instead.\n",
            "\n",
            "WARNING:tensorflow:\n",
            "The TensorFlow contrib module will not be included in TensorFlow 2.0.\n",
            "For more information, please see:\n",
            "  * https://github.com/tensorflow/community/blob/master/rfcs/20180907-contrib-sunset.md\n",
            "  * https://github.com/tensorflow/addons\n",
            "  * https://github.com/tensorflow/io (for I/O related ops)\n",
            "If you depend on functionality not listed there, please file an issue.\n",
            "\n",
            "WARNING:tensorflow:From ../models/bert/modeling.py:671: dense (from tensorflow.python.layers.core) is deprecated and will be removed in a future version.\n",
            "Instructions for updating:\n",
            "Use keras.layers.Dense instead.\n",
            "WARNING:tensorflow:From /tensorflow-1.15.2/python3.7/tensorflow_core/python/layers/core.py:187: Layer.apply (from tensorflow.python.keras.engine.base_layer) is deprecated and will be removed in a future version.\n",
            "Instructions for updating:\n",
            "Please use `layer.__call__` method instead.\n",
            "WARNING:tensorflow:From /content/nlp2/examples/sent_eval.py:83: The name tf.train.Saver is deprecated. Please use tf.compat.v1.train.Saver instead.\n",
            "\n",
            "WARNING:tensorflow:From /content/nlp2/examples/sent_eval.py:83: The name tf.global_variables is deprecated. Please use tf.compat.v1.global_variables instead.\n",
            "\n",
            "WARNING:tensorflow:From /content/nlp2/examples/sent_eval.py:84: The name tf.Session is deprecated. Please use tf.compat.v1.Session instead.\n",
            "\n",
            "2021-07-16 07:46:58.895282: I tensorflow/stream_executor/platform/default/dso_loader.cc:44] Successfully opened dynamic library libcuda.so.1\n",
            "2021-07-16 07:46:58.968587: I tensorflow/stream_executor/cuda/cuda_gpu_executor.cc:983] successful NUMA node read from SysFS had negative value (-1), but there must be at least one NUMA node, so returning NUMA node zero\n",
            "2021-07-16 07:46:58.969493: I tensorflow/core/common_runtime/gpu/gpu_device.cc:1639] Found device 0 with properties: \n",
            "name: Tesla P100-PCIE-16GB major: 6 minor: 0 memoryClockRate(GHz): 1.3285\n",
            "pciBusID: 0000:00:04.0\n",
            "2021-07-16 07:46:58.982204: I tensorflow/stream_executor/platform/default/dso_loader.cc:44] Successfully opened dynamic library libcudart.so.10.1\n",
            "2021-07-16 07:46:59.179646: I tensorflow/stream_executor/platform/default/dso_loader.cc:44] Successfully opened dynamic library libcublas.so.10\n",
            "2021-07-16 07:46:59.290916: I tensorflow/stream_executor/platform/default/dso_loader.cc:44] Successfully opened dynamic library libcufft.so.10\n",
            "2021-07-16 07:46:59.328879: I tensorflow/stream_executor/platform/default/dso_loader.cc:44] Successfully opened dynamic library libcurand.so.10\n",
            "2021-07-16 07:46:59.575085: I tensorflow/stream_executor/platform/default/dso_loader.cc:44] Successfully opened dynamic library libcusolver.so.10\n",
            "2021-07-16 07:46:59.603810: I tensorflow/stream_executor/platform/default/dso_loader.cc:44] Successfully opened dynamic library libcusparse.so.10\n",
            "2021-07-16 07:47:00.005963: I tensorflow/stream_executor/platform/default/dso_loader.cc:44] Successfully opened dynamic library libcudnn.so.7\n",
            "2021-07-16 07:47:00.006136: I tensorflow/stream_executor/cuda/cuda_gpu_executor.cc:983] successful NUMA node read from SysFS had negative value (-1), but there must be at least one NUMA node, so returning NUMA node zero\n",
            "2021-07-16 07:47:00.007166: I tensorflow/stream_executor/cuda/cuda_gpu_executor.cc:983] successful NUMA node read from SysFS had negative value (-1), but there must be at least one NUMA node, so returning NUMA node zero\n",
            "2021-07-16 07:47:00.008009: I tensorflow/core/common_runtime/gpu/gpu_device.cc:1767] Adding visible gpu devices: 0\n",
            "2021-07-16 07:47:00.025574: I tensorflow/core/platform/profile_utils/cpu_utils.cc:94] CPU Frequency: 2299995000 Hz\n",
            "2021-07-16 07:47:00.025986: I tensorflow/compiler/xla/service/service.cc:168] XLA service 0x55dbf56aea00 initialized for platform Host (this does not guarantee that XLA will be used). Devices:\n",
            "2021-07-16 07:47:00.026021: I tensorflow/compiler/xla/service/service.cc:176]   StreamExecutor device (0): Host, Default Version\n",
            "2021-07-16 07:47:00.255838: I tensorflow/stream_executor/cuda/cuda_gpu_executor.cc:983] successful NUMA node read from SysFS had negative value (-1), but there must be at least one NUMA node, so returning NUMA node zero\n",
            "2021-07-16 07:47:00.257016: I tensorflow/compiler/xla/service/service.cc:168] XLA service 0x55dbf56ae680 initialized for platform CUDA (this does not guarantee that XLA will be used). Devices:\n",
            "2021-07-16 07:47:00.257083: I tensorflow/compiler/xla/service/service.cc:176]   StreamExecutor device (0): Tesla P100-PCIE-16GB, Compute Capability 6.0\n",
            "2021-07-16 07:47:00.257284: I tensorflow/stream_executor/cuda/cuda_gpu_executor.cc:983] successful NUMA node read from SysFS had negative value (-1), but there must be at least one NUMA node, so returning NUMA node zero\n",
            "2021-07-16 07:47:00.258248: I tensorflow/core/common_runtime/gpu/gpu_device.cc:1639] Found device 0 with properties: \n",
            "name: Tesla P100-PCIE-16GB major: 6 minor: 0 memoryClockRate(GHz): 1.3285\n",
            "pciBusID: 0000:00:04.0\n",
            "2021-07-16 07:47:00.258327: I tensorflow/stream_executor/platform/default/dso_loader.cc:44] Successfully opened dynamic library libcudart.so.10.1\n",
            "2021-07-16 07:47:00.258355: I tensorflow/stream_executor/platform/default/dso_loader.cc:44] Successfully opened dynamic library libcublas.so.10\n",
            "2021-07-16 07:47:00.258396: I tensorflow/stream_executor/platform/default/dso_loader.cc:44] Successfully opened dynamic library libcufft.so.10\n",
            "2021-07-16 07:47:00.258418: I tensorflow/stream_executor/platform/default/dso_loader.cc:44] Successfully opened dynamic library libcurand.so.10\n",
            "2021-07-16 07:47:00.258440: I tensorflow/stream_executor/platform/default/dso_loader.cc:44] Successfully opened dynamic library libcusolver.so.10\n",
            "2021-07-16 07:47:00.258461: I tensorflow/stream_executor/platform/default/dso_loader.cc:44] Successfully opened dynamic library libcusparse.so.10\n",
            "2021-07-16 07:47:00.258493: I tensorflow/stream_executor/platform/default/dso_loader.cc:44] Successfully opened dynamic library libcudnn.so.7\n",
            "2021-07-16 07:47:00.258560: I tensorflow/stream_executor/cuda/cuda_gpu_executor.cc:983] successful NUMA node read from SysFS had negative value (-1), but there must be at least one NUMA node, so returning NUMA node zero\n",
            "2021-07-16 07:47:00.259489: I tensorflow/stream_executor/cuda/cuda_gpu_executor.cc:983] successful NUMA node read from SysFS had negative value (-1), but there must be at least one NUMA node, so returning NUMA node zero\n",
            "2021-07-16 07:47:00.260336: I tensorflow/core/common_runtime/gpu/gpu_device.cc:1767] Adding visible gpu devices: 0\n",
            "2021-07-16 07:47:00.264010: I tensorflow/stream_executor/platform/default/dso_loader.cc:44] Successfully opened dynamic library libcudart.so.10.1\n",
            "2021-07-16 07:47:00.265708: I tensorflow/core/common_runtime/gpu/gpu_device.cc:1180] Device interconnect StreamExecutor with strength 1 edge matrix:\n",
            "2021-07-16 07:47:00.265760: I tensorflow/core/common_runtime/gpu/gpu_device.cc:1186]      0 \n",
            "2021-07-16 07:47:00.265782: I tensorflow/core/common_runtime/gpu/gpu_device.cc:1199] 0:   N \n",
            "2021-07-16 07:47:00.266847: I tensorflow/stream_executor/cuda/cuda_gpu_executor.cc:983] successful NUMA node read from SysFS had negative value (-1), but there must be at least one NUMA node, so returning NUMA node zero\n",
            "2021-07-16 07:47:00.267832: I tensorflow/stream_executor/cuda/cuda_gpu_executor.cc:983] successful NUMA node read from SysFS had negative value (-1), but there must be at least one NUMA node, so returning NUMA node zero\n",
            "2021-07-16 07:47:00.268658: W tensorflow/core/common_runtime/gpu/gpu_bfc_allocator.cc:39] Overriding allow_growth setting because the TF_FORCE_GPU_ALLOW_GROWTH environment variable is set. Original config value was 0.\n",
            "2021-07-16 07:47:00.268724: I tensorflow/core/common_runtime/gpu/gpu_device.cc:1325] Created TensorFlow device (/job:localhost/replica:0/task:0/device:GPU:0 with 15224 MB memory) -> physical GPU (device: 0, name: Tesla P100-PCIE-16GB, pci bus id: 0000:00:04.0, compute capability: 6.0)\n",
            "2021-07-16 07:47:05.216322: I tensorflow/stream_executor/platform/default/dso_loader.cc:44] Successfully opened dynamic library libcublas.so.10\n",
            "영화 짱 재밌어요! : 긍정 리뷰입니다.97.0%\n",
            "\n",
            "완전 재미없어요 ㅠ : 부정 리뷰입니다.99.7%\n",
            "\n",
            "완전 비추입니다 ㅎㅎ : 부정 리뷰입니다.99.7%\n",
            "\n",
            "대박 최고 영화에요! : 긍정 리뷰입니다.97.8%\n",
            "\n",
            "배우들 연기잘하고 감동적임다 : 긍정 리뷰입니다.99.7%\n",
            "\n",
            "이 영화 개꿀잼 ㅋㅋㅋ : 긍정 리뷰입니다.98.0%\n",
            "\n",
            "이 영화 핵노잼 ㅠㅠ : 부정 리뷰입니다.99.6%\n",
            "\n",
            "이딴게 영화냐 ㅉㅉ : 부정 리뷰입니다.99.7%\n",
            "\n",
            "감독 뭐하는 놈이냐? : 부정 리뷰입니다.99.7%\n",
            "\n",
            "와 개쩐다 정말 세계관 최강자들의 영화다 : 긍정 리뷰입니다.98.8%\n",
            "\n"
          ],
          "name": "stdout"
        }
      ]
    }
  ]
}